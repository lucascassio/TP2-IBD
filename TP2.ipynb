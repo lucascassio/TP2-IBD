{
 "cells": [
  {
   "cell_type": "markdown",
   "metadata": {
    "id": "eBY8RGfz2E1j"
   },
   "source": [
    "# TRABALHO PRÁTICO 2\n"
   ]
  },
  {
   "cell_type": "code",
   "execution_count": 1,
   "metadata": {
    "id": "MZfJfrgrOdUz"
   },
   "outputs": [
    {
     "name": "stdout",
     "output_type": "stream",
     "text": [
      "Requirement already satisfied: pandas in /home/lean/anaconda3/lib/python3.11/site-packages (2.0.3)\n",
      "Requirement already satisfied: python-dateutil>=2.8.2 in /home/lean/anaconda3/lib/python3.11/site-packages (from pandas) (2.8.2)\n",
      "Requirement already satisfied: pytz>=2020.1 in /home/lean/anaconda3/lib/python3.11/site-packages (from pandas) (2023.3.post1)\n",
      "Requirement already satisfied: tzdata>=2022.1 in /home/lean/anaconda3/lib/python3.11/site-packages (from pandas) (2023.3)\n",
      "Requirement already satisfied: numpy>=1.21.0 in /home/lean/anaconda3/lib/python3.11/site-packages (from pandas) (1.24.3)\n",
      "Requirement already satisfied: six>=1.5 in /home/lean/anaconda3/lib/python3.11/site-packages (from python-dateutil>=2.8.2->pandas) (1.16.0)\n",
      "Requirement already satisfied: gdown in /home/lean/anaconda3/lib/python3.11/site-packages (4.7.1)\n",
      "Requirement already satisfied: filelock in /home/lean/anaconda3/lib/python3.11/site-packages (from gdown) (3.9.0)\n",
      "Requirement already satisfied: requests[socks] in /home/lean/anaconda3/lib/python3.11/site-packages (from gdown) (2.31.0)\n",
      "Requirement already satisfied: six in /home/lean/anaconda3/lib/python3.11/site-packages (from gdown) (1.16.0)\n",
      "Requirement already satisfied: tqdm in /home/lean/anaconda3/lib/python3.11/site-packages (from gdown) (4.65.0)\n",
      "Requirement already satisfied: beautifulsoup4 in /home/lean/anaconda3/lib/python3.11/site-packages (from gdown) (4.12.2)\n",
      "Requirement already satisfied: soupsieve>1.2 in /home/lean/anaconda3/lib/python3.11/site-packages (from beautifulsoup4->gdown) (2.4)\n",
      "Requirement already satisfied: charset-normalizer<4,>=2 in /home/lean/anaconda3/lib/python3.11/site-packages (from requests[socks]->gdown) (2.0.4)\n",
      "Requirement already satisfied: idna<4,>=2.5 in /home/lean/anaconda3/lib/python3.11/site-packages (from requests[socks]->gdown) (3.4)\n",
      "Requirement already satisfied: urllib3<3,>=1.21.1 in /home/lean/anaconda3/lib/python3.11/site-packages (from requests[socks]->gdown) (1.26.16)\n",
      "Requirement already satisfied: certifi>=2017.4.17 in /home/lean/anaconda3/lib/python3.11/site-packages (from requests[socks]->gdown) (2023.7.22)\n",
      "Requirement already satisfied: PySocks!=1.5.7,>=1.5.6 in /home/lean/anaconda3/lib/python3.11/site-packages (from requests[socks]->gdown) (1.7.1)\n"
     ]
    }
   ],
   "source": [
    "#NÃO ALTERE AS LINHAS ABAIXO\n",
    "import sys\n",
    "#!{sys.executable} -m pip install sqlite3\n",
    "!{sys.executable} -m pip install pandas\n",
    "#!{sys.executable} -m pip install csv\n",
    "!{sys.executable} -m pip install gdown"
   ]
  },
  {
   "cell_type": "code",
   "execution_count": 2,
   "metadata": {
    "id": "UTEN6eIxoIW2"
   },
   "outputs": [],
   "source": [
    "#NÃO ALTERE AS LINHAS ABAIXO\n",
    "import sqlite3 as sql3\n",
    "import pandas as pd\n",
    "import csv\n",
    "import gdown"
   ]
  },
  {
   "cell_type": "markdown",
   "metadata": {
    "id": "MZfJfrgrOdUz"
   },
   "source": [
    "## Banco de Dados\n"
   ]
  },
  {
   "cell_type": "code",
   "execution_count": 3,
   "metadata": {
    "id": "-3YwrO_-l2WZ"
   },
   "outputs": [
    {
     "name": "stdout",
     "output_type": "stream",
     "text": [
      "/home/lean/anaconda3/lib/python3.11/site-packages/gdown/parse_url.py:44: UserWarning: You specified a Google Drive link that is not the correct link to download a file. You might want to try `--fuzzy` option or the following url: https://drive.google.com/uc?id=None\n",
      "  warnings.warn(\n",
      "Downloading...\n",
      "From: https://drive.google.com/file/d/1bWHhdDvNIFSZLWq9AJoFbwjxy-O07ZQH\n",
      "To: /home/lean/Documentos/TP`s IBD/TP2-IBD/TP2-IBD/1bWHhdDvNIFSZLWq9AJoFbwjxy-O07ZQH\n",
      "84.3kB [00:00, 420MB/s]\n"
     ]
    }
   ],
   "source": [
    "#NÃO ALTERE AS LINHAS ABAIXO\n",
    "!gdown \"https://drive.google.com/file/d/1bWHhdDvNIFSZLWq9AJoFbwjxy-O07ZQH\""
   ]
  },
  {
   "cell_type": "code",
   "execution_count": 4,
   "metadata": {
    "id": "YNbhzCECo-cG"
   },
   "outputs": [],
   "source": [
    "#NÃO ALTERE AS LINHAS ABAIXO\n",
    "con = sql3.connect(\":memory:\")\n",
    "sql_file = open('databaseTP2sqlite.sql', encoding=\"utf8\")\n",
    "cur = con.cursor()\n",
    "db = sql_file.read()\n",
    "cur.executescript(db)\n",
    "con.commit()"
   ]
  },
  {
   "cell_type": "markdown",
   "metadata": {
    "id": "-3YwrO_-l2WZ"
   },
   "source": [
    "## Estrutura das Tabelas do Banco de Dados \n",
    "\n"
   ]
  },
  {
   "cell_type": "markdown",
   "metadata": {
    "id": "8hfCV641pC9H"
   },
   "source": [
    "### TABELA REGIOES"
   ]
  },
  {
   "cell_type": "code",
   "execution_count": 5,
   "metadata": {
    "id": "8jkvRmLal28e"
   },
   "outputs": [
    {
     "data": {
      "text/html": [
       "<div>\n",
       "<style scoped>\n",
       "    .dataframe tbody tr th:only-of-type {\n",
       "        vertical-align: middle;\n",
       "    }\n",
       "\n",
       "    .dataframe tbody tr th {\n",
       "        vertical-align: top;\n",
       "    }\n",
       "\n",
       "    .dataframe thead th {\n",
       "        text-align: right;\n",
       "    }\n",
       "</style>\n",
       "<table border=\"1\" class=\"dataframe\">\n",
       "  <thead>\n",
       "    <tr style=\"text-align: right;\">\n",
       "      <th></th>\n",
       "      <th>cid</th>\n",
       "      <th>name</th>\n",
       "      <th>type</th>\n",
       "      <th>notnull</th>\n",
       "      <th>dflt_value</th>\n",
       "      <th>pk</th>\n",
       "    </tr>\n",
       "  </thead>\n",
       "  <tbody>\n",
       "    <tr>\n",
       "      <th>0</th>\n",
       "      <td>0</td>\n",
       "      <td>regiao_id</td>\n",
       "      <td>INTEGER</td>\n",
       "      <td>0</td>\n",
       "      <td>None</td>\n",
       "      <td>1</td>\n",
       "    </tr>\n",
       "    <tr>\n",
       "      <th>1</th>\n",
       "      <td>1</td>\n",
       "      <td>nome_regiao</td>\n",
       "      <td>TEXT</td>\n",
       "      <td>0</td>\n",
       "      <td>None</td>\n",
       "      <td>0</td>\n",
       "    </tr>\n",
       "  </tbody>\n",
       "</table>\n",
       "</div>"
      ],
      "text/plain": [
       "   cid         name     type  notnull dflt_value  pk\n",
       "0    0    regiao_id  INTEGER        0       None   1\n",
       "1    1  nome_regiao     TEXT        0       None   0"
      ]
     },
     "metadata": {},
     "output_type": "display_data"
    }
   ],
   "source": [
    "#NÃO ALTERE AS LINHAS ABAIXO\n",
    "query = \"PRAGMA table_info('regioes')\"\n",
    "df = pd.read_sql(query, con)\n",
    "display(df)"
   ]
  },
  {
   "cell_type": "markdown",
   "metadata": {
    "id": "D3Rt9RGApJIc"
   },
   "source": [
    "### TABELA ABRANGENCIA SAUDE"
   ]
  },
  {
   "cell_type": "code",
   "execution_count": 6,
   "metadata": {
    "id": "KixV7M2lpIue"
   },
   "outputs": [
    {
     "data": {
      "text/html": [
       "<div>\n",
       "<style scoped>\n",
       "    .dataframe tbody tr th:only-of-type {\n",
       "        vertical-align: middle;\n",
       "    }\n",
       "\n",
       "    .dataframe tbody tr th {\n",
       "        vertical-align: top;\n",
       "    }\n",
       "\n",
       "    .dataframe thead th {\n",
       "        text-align: right;\n",
       "    }\n",
       "</style>\n",
       "<table border=\"1\" class=\"dataframe\">\n",
       "  <thead>\n",
       "    <tr style=\"text-align: right;\">\n",
       "      <th></th>\n",
       "      <th>cid</th>\n",
       "      <th>name</th>\n",
       "      <th>type</th>\n",
       "      <th>notnull</th>\n",
       "      <th>dflt_value</th>\n",
       "      <th>pk</th>\n",
       "    </tr>\n",
       "  </thead>\n",
       "  <tbody>\n",
       "    <tr>\n",
       "      <th>0</th>\n",
       "      <td>0</td>\n",
       "      <td>id_area_abrangencia_saude</td>\n",
       "      <td>INTEGER</td>\n",
       "      <td>0</td>\n",
       "      <td>None</td>\n",
       "      <td>1</td>\n",
       "    </tr>\n",
       "    <tr>\n",
       "      <th>1</th>\n",
       "      <td>1</td>\n",
       "      <td>cod_smsa</td>\n",
       "      <td>INTEGER</td>\n",
       "      <td>0</td>\n",
       "      <td>None</td>\n",
       "      <td>0</td>\n",
       "    </tr>\n",
       "    <tr>\n",
       "      <th>2</th>\n",
       "      <td>2</td>\n",
       "      <td>nome_area_abrangencia</td>\n",
       "      <td>TEXT</td>\n",
       "      <td>0</td>\n",
       "      <td>None</td>\n",
       "      <td>0</td>\n",
       "    </tr>\n",
       "    <tr>\n",
       "      <th>3</th>\n",
       "      <td>3</td>\n",
       "      <td>nome_regiao</td>\n",
       "      <td>TEXT</td>\n",
       "      <td>0</td>\n",
       "      <td>None</td>\n",
       "      <td>0</td>\n",
       "    </tr>\n",
       "    <tr>\n",
       "      <th>4</th>\n",
       "      <td>4</td>\n",
       "      <td>nome_centro_saude</td>\n",
       "      <td>TEXT</td>\n",
       "      <td>0</td>\n",
       "      <td>None</td>\n",
       "      <td>0</td>\n",
       "    </tr>\n",
       "    <tr>\n",
       "      <th>5</th>\n",
       "      <td>5</td>\n",
       "      <td>tipo_logradouro_cs</td>\n",
       "      <td>TEXT</td>\n",
       "      <td>0</td>\n",
       "      <td>None</td>\n",
       "      <td>0</td>\n",
       "    </tr>\n",
       "    <tr>\n",
       "      <th>6</th>\n",
       "      <td>6</td>\n",
       "      <td>nome_logradouro_cs</td>\n",
       "      <td>TEXT</td>\n",
       "      <td>0</td>\n",
       "      <td>None</td>\n",
       "      <td>0</td>\n",
       "    </tr>\n",
       "    <tr>\n",
       "      <th>7</th>\n",
       "      <td>7</td>\n",
       "      <td>numero_imovel_cs</td>\n",
       "      <td>INTEGER</td>\n",
       "      <td>0</td>\n",
       "      <td>None</td>\n",
       "      <td>0</td>\n",
       "    </tr>\n",
       "    <tr>\n",
       "      <th>8</th>\n",
       "      <td>8</td>\n",
       "      <td>nome_bairro_popular</td>\n",
       "      <td>TEXT</td>\n",
       "      <td>0</td>\n",
       "      <td>None</td>\n",
       "      <td>0</td>\n",
       "    </tr>\n",
       "    <tr>\n",
       "      <th>9</th>\n",
       "      <td>9</td>\n",
       "      <td>telefone_centro_saude</td>\n",
       "      <td>TEXT</td>\n",
       "      <td>0</td>\n",
       "      <td>None</td>\n",
       "      <td>0</td>\n",
       "    </tr>\n",
       "    <tr>\n",
       "      <th>10</th>\n",
       "      <td>10</td>\n",
       "      <td>data_ultima_atualizacao</td>\n",
       "      <td>TEXT</td>\n",
       "      <td>0</td>\n",
       "      <td>None</td>\n",
       "      <td>0</td>\n",
       "    </tr>\n",
       "    <tr>\n",
       "      <th>11</th>\n",
       "      <td>11</td>\n",
       "      <td>geometria</td>\n",
       "      <td>TEXT</td>\n",
       "      <td>0</td>\n",
       "      <td>None</td>\n",
       "      <td>0</td>\n",
       "    </tr>\n",
       "    <tr>\n",
       "      <th>12</th>\n",
       "      <td>12</td>\n",
       "      <td>bairro_popular_id</td>\n",
       "      <td>INTEGER</td>\n",
       "      <td>0</td>\n",
       "      <td>None</td>\n",
       "      <td>0</td>\n",
       "    </tr>\n",
       "    <tr>\n",
       "      <th>13</th>\n",
       "      <td>13</td>\n",
       "      <td>regiao_id</td>\n",
       "      <td>INTEGER</td>\n",
       "      <td>0</td>\n",
       "      <td>None</td>\n",
       "      <td>0</td>\n",
       "    </tr>\n",
       "  </tbody>\n",
       "</table>\n",
       "</div>"
      ],
      "text/plain": [
       "    cid                       name     type  notnull dflt_value  pk\n",
       "0     0  id_area_abrangencia_saude  INTEGER        0       None   1\n",
       "1     1                   cod_smsa  INTEGER        0       None   0\n",
       "2     2      nome_area_abrangencia     TEXT        0       None   0\n",
       "3     3                nome_regiao     TEXT        0       None   0\n",
       "4     4          nome_centro_saude     TEXT        0       None   0\n",
       "5     5         tipo_logradouro_cs     TEXT        0       None   0\n",
       "6     6         nome_logradouro_cs     TEXT        0       None   0\n",
       "7     7           numero_imovel_cs  INTEGER        0       None   0\n",
       "8     8        nome_bairro_popular     TEXT        0       None   0\n",
       "9     9      telefone_centro_saude     TEXT        0       None   0\n",
       "10   10    data_ultima_atualizacao     TEXT        0       None   0\n",
       "11   11                  geometria     TEXT        0       None   0\n",
       "12   12          bairro_popular_id  INTEGER        0       None   0\n",
       "13   13                  regiao_id  INTEGER        0       None   0"
      ]
     },
     "metadata": {},
     "output_type": "display_data"
    }
   ],
   "source": [
    "#NÃO ALTERE AS LINHAS ABAIXO\n",
    "query = \"PRAGMA table_info('abrangencia_saude')\"\n",
    "df = pd.read_sql(query, con)\n",
    "display(df)"
   ]
  },
  {
   "cell_type": "markdown",
   "metadata": {
    "id": "OkYuOWLopLvH"
   },
   "source": [
    "### TABELA REDE MUNICIPAL ESCOLAS"
   ]
  },
  {
   "cell_type": "code",
   "execution_count": 7,
   "metadata": {
    "id": "ipQyCv7EpLif"
   },
   "outputs": [
    {
     "data": {
      "text/html": [
       "<div>\n",
       "<style scoped>\n",
       "    .dataframe tbody tr th:only-of-type {\n",
       "        vertical-align: middle;\n",
       "    }\n",
       "\n",
       "    .dataframe tbody tr th {\n",
       "        vertical-align: top;\n",
       "    }\n",
       "\n",
       "    .dataframe thead th {\n",
       "        text-align: right;\n",
       "    }\n",
       "</style>\n",
       "<table border=\"1\" class=\"dataframe\">\n",
       "  <thead>\n",
       "    <tr style=\"text-align: right;\">\n",
       "      <th></th>\n",
       "      <th>cid</th>\n",
       "      <th>name</th>\n",
       "      <th>type</th>\n",
       "      <th>notnull</th>\n",
       "      <th>dflt_value</th>\n",
       "      <th>pk</th>\n",
       "    </tr>\n",
       "  </thead>\n",
       "  <tbody>\n",
       "    <tr>\n",
       "      <th>0</th>\n",
       "      <td>0</td>\n",
       "      <td>id_equip_educacao</td>\n",
       "      <td>INTEGER</td>\n",
       "      <td>0</td>\n",
       "      <td>None</td>\n",
       "      <td>1</td>\n",
       "    </tr>\n",
       "    <tr>\n",
       "      <th>1</th>\n",
       "      <td>1</td>\n",
       "      <td>nome</td>\n",
       "      <td>TEXT</td>\n",
       "      <td>0</td>\n",
       "      <td>None</td>\n",
       "      <td>0</td>\n",
       "    </tr>\n",
       "    <tr>\n",
       "      <th>2</th>\n",
       "      <td>2</td>\n",
       "      <td>dependencia_adm</td>\n",
       "      <td>TEXT</td>\n",
       "      <td>0</td>\n",
       "      <td>None</td>\n",
       "      <td>0</td>\n",
       "    </tr>\n",
       "    <tr>\n",
       "      <th>3</th>\n",
       "      <td>3</td>\n",
       "      <td>codigo_inep</td>\n",
       "      <td>INTEGER</td>\n",
       "      <td>0</td>\n",
       "      <td>None</td>\n",
       "      <td>0</td>\n",
       "    </tr>\n",
       "    <tr>\n",
       "      <th>4</th>\n",
       "      <td>4</td>\n",
       "      <td>tipo_logradouro</td>\n",
       "      <td>TEXT</td>\n",
       "      <td>0</td>\n",
       "      <td>None</td>\n",
       "      <td>0</td>\n",
       "    </tr>\n",
       "    <tr>\n",
       "      <th>5</th>\n",
       "      <td>5</td>\n",
       "      <td>logradouro</td>\n",
       "      <td>TEXT</td>\n",
       "      <td>0</td>\n",
       "      <td>None</td>\n",
       "      <td>0</td>\n",
       "    </tr>\n",
       "    <tr>\n",
       "      <th>6</th>\n",
       "      <td>6</td>\n",
       "      <td>numero</td>\n",
       "      <td>INTEGER</td>\n",
       "      <td>0</td>\n",
       "      <td>None</td>\n",
       "      <td>0</td>\n",
       "    </tr>\n",
       "    <tr>\n",
       "      <th>7</th>\n",
       "      <td>7</td>\n",
       "      <td>complemento</td>\n",
       "      <td>REAL</td>\n",
       "      <td>0</td>\n",
       "      <td>None</td>\n",
       "      <td>0</td>\n",
       "    </tr>\n",
       "    <tr>\n",
       "      <th>8</th>\n",
       "      <td>8</td>\n",
       "      <td>nome_bairro_popular</td>\n",
       "      <td>TEXT</td>\n",
       "      <td>0</td>\n",
       "      <td>None</td>\n",
       "      <td>0</td>\n",
       "    </tr>\n",
       "    <tr>\n",
       "      <th>9</th>\n",
       "      <td>9</td>\n",
       "      <td>nome_regiao</td>\n",
       "      <td>TEXT</td>\n",
       "      <td>0</td>\n",
       "      <td>None</td>\n",
       "      <td>0</td>\n",
       "    </tr>\n",
       "    <tr>\n",
       "      <th>10</th>\n",
       "      <td>10</td>\n",
       "      <td>geometria</td>\n",
       "      <td>TEXT</td>\n",
       "      <td>0</td>\n",
       "      <td>None</td>\n",
       "      <td>0</td>\n",
       "    </tr>\n",
       "    <tr>\n",
       "      <th>11</th>\n",
       "      <td>11</td>\n",
       "      <td>bairro_popular_id</td>\n",
       "      <td>INTEGER</td>\n",
       "      <td>0</td>\n",
       "      <td>None</td>\n",
       "      <td>0</td>\n",
       "    </tr>\n",
       "    <tr>\n",
       "      <th>12</th>\n",
       "      <td>12</td>\n",
       "      <td>regiao_id</td>\n",
       "      <td>INTEGER</td>\n",
       "      <td>0</td>\n",
       "      <td>None</td>\n",
       "      <td>0</td>\n",
       "    </tr>\n",
       "  </tbody>\n",
       "</table>\n",
       "</div>"
      ],
      "text/plain": [
       "    cid                 name     type  notnull dflt_value  pk\n",
       "0     0    id_equip_educacao  INTEGER        0       None   1\n",
       "1     1                 nome     TEXT        0       None   0\n",
       "2     2      dependencia_adm     TEXT        0       None   0\n",
       "3     3          codigo_inep  INTEGER        0       None   0\n",
       "4     4      tipo_logradouro     TEXT        0       None   0\n",
       "5     5           logradouro     TEXT        0       None   0\n",
       "6     6               numero  INTEGER        0       None   0\n",
       "7     7          complemento     REAL        0       None   0\n",
       "8     8  nome_bairro_popular     TEXT        0       None   0\n",
       "9     9          nome_regiao     TEXT        0       None   0\n",
       "10   10            geometria     TEXT        0       None   0\n",
       "11   11    bairro_popular_id  INTEGER        0       None   0\n",
       "12   12            regiao_id  INTEGER        0       None   0"
      ]
     },
     "metadata": {},
     "output_type": "display_data"
    }
   ],
   "source": [
    "#NÃO ALTERE AS LINHAS ABAIXO\n",
    "query = \"PRAGMA table_info('rede_municipal_escolas')\"\n",
    "df = pd.read_sql(query, con)\n",
    "display(df)"
   ]
  },
  {
   "cell_type": "markdown",
   "metadata": {
    "id": "mME1mUVIpODT"
   },
   "source": [
    "### TABELA BAIRROS"
   ]
  },
  {
   "cell_type": "code",
   "execution_count": 8,
   "metadata": {
    "id": "6OzRcTiOpN3j"
   },
   "outputs": [
    {
     "data": {
      "text/html": [
       "<div>\n",
       "<style scoped>\n",
       "    .dataframe tbody tr th:only-of-type {\n",
       "        vertical-align: middle;\n",
       "    }\n",
       "\n",
       "    .dataframe tbody tr th {\n",
       "        vertical-align: top;\n",
       "    }\n",
       "\n",
       "    .dataframe thead th {\n",
       "        text-align: right;\n",
       "    }\n",
       "</style>\n",
       "<table border=\"1\" class=\"dataframe\">\n",
       "  <thead>\n",
       "    <tr style=\"text-align: right;\">\n",
       "      <th></th>\n",
       "      <th>cid</th>\n",
       "      <th>name</th>\n",
       "      <th>type</th>\n",
       "      <th>notnull</th>\n",
       "      <th>dflt_value</th>\n",
       "      <th>pk</th>\n",
       "    </tr>\n",
       "  </thead>\n",
       "  <tbody>\n",
       "    <tr>\n",
       "      <th>0</th>\n",
       "      <td>0</td>\n",
       "      <td>bairro_popular_id</td>\n",
       "      <td>INTEGER</td>\n",
       "      <td>0</td>\n",
       "      <td>None</td>\n",
       "      <td>1</td>\n",
       "    </tr>\n",
       "    <tr>\n",
       "      <th>1</th>\n",
       "      <td>1</td>\n",
       "      <td>nome_bairro_popular</td>\n",
       "      <td>TEXT</td>\n",
       "      <td>0</td>\n",
       "      <td>None</td>\n",
       "      <td>0</td>\n",
       "    </tr>\n",
       "  </tbody>\n",
       "</table>\n",
       "</div>"
      ],
      "text/plain": [
       "   cid                 name     type  notnull dflt_value  pk\n",
       "0    0    bairro_popular_id  INTEGER        0       None   1\n",
       "1    1  nome_bairro_popular     TEXT        0       None   0"
      ]
     },
     "metadata": {},
     "output_type": "display_data"
    }
   ],
   "source": [
    "#NÃO ALTERE AS LINHAS ABAIXO\n",
    "query = \"PRAGMA table_info('bairros')\"\n",
    "df = pd.read_sql(query, con)\n",
    "display(df)"
   ]
  },
  {
   "cell_type": "markdown",
   "metadata": {
    "id": "mME1mUVIpODT"
   },
   "source": [
    "### TABELA FAMILIAS CRAS"
   ]
  },
  {
   "cell_type": "code",
   "execution_count": 9,
   "metadata": {
    "id": "B6B4VS0QpRcO"
   },
   "outputs": [
    {
     "data": {
      "text/html": [
       "<div>\n",
       "<style scoped>\n",
       "    .dataframe tbody tr th:only-of-type {\n",
       "        vertical-align: middle;\n",
       "    }\n",
       "\n",
       "    .dataframe tbody tr th {\n",
       "        vertical-align: top;\n",
       "    }\n",
       "\n",
       "    .dataframe thead th {\n",
       "        text-align: right;\n",
       "    }\n",
       "</style>\n",
       "<table border=\"1\" class=\"dataframe\">\n",
       "  <thead>\n",
       "    <tr style=\"text-align: right;\">\n",
       "      <th></th>\n",
       "      <th>cid</th>\n",
       "      <th>name</th>\n",
       "      <th>type</th>\n",
       "      <th>notnull</th>\n",
       "      <th>dflt_value</th>\n",
       "      <th>pk</th>\n",
       "    </tr>\n",
       "  </thead>\n",
       "  <tbody>\n",
       "    <tr>\n",
       "      <th>0</th>\n",
       "      <td>0</td>\n",
       "      <td>nome_regiao</td>\n",
       "      <td>TEXT</td>\n",
       "      <td>0</td>\n",
       "      <td>None</td>\n",
       "      <td>0</td>\n",
       "    </tr>\n",
       "    <tr>\n",
       "      <th>1</th>\n",
       "      <td>1</td>\n",
       "      <td>cras</td>\n",
       "      <td>TEXT</td>\n",
       "      <td>0</td>\n",
       "      <td>None</td>\n",
       "      <td>0</td>\n",
       "    </tr>\n",
       "    <tr>\n",
       "      <th>2</th>\n",
       "      <td>2</td>\n",
       "      <td>qtde_familias</td>\n",
       "      <td>INTEGER</td>\n",
       "      <td>0</td>\n",
       "      <td>None</td>\n",
       "      <td>0</td>\n",
       "    </tr>\n",
       "    <tr>\n",
       "      <th>3</th>\n",
       "      <td>3</td>\n",
       "      <td>mes_ano_referencia</td>\n",
       "      <td>TEXT</td>\n",
       "      <td>0</td>\n",
       "      <td>None</td>\n",
       "      <td>0</td>\n",
       "    </tr>\n",
       "    <tr>\n",
       "      <th>4</th>\n",
       "      <td>4</td>\n",
       "      <td>regiao_id</td>\n",
       "      <td>INTEGER</td>\n",
       "      <td>0</td>\n",
       "      <td>None</td>\n",
       "      <td>0</td>\n",
       "    </tr>\n",
       "  </tbody>\n",
       "</table>\n",
       "</div>"
      ],
      "text/plain": [
       "   cid                name     type  notnull dflt_value  pk\n",
       "0    0         nome_regiao     TEXT        0       None   0\n",
       "1    1                cras     TEXT        0       None   0\n",
       "2    2       qtde_familias  INTEGER        0       None   0\n",
       "3    3  mes_ano_referencia     TEXT        0       None   0\n",
       "4    4           regiao_id  INTEGER        0       None   0"
      ]
     },
     "metadata": {},
     "output_type": "display_data"
    }
   ],
   "source": [
    "#NÃO ALTERE AS LINHAS ABAIXO\n",
    "query = \"PRAGMA table_info('familias_cras')\"\n",
    "df = pd.read_sql(query, con)\n",
    "display(df)"
   ]
  },
  {
   "cell_type": "markdown",
   "metadata": {
    "id": "yrtZ8sTRP3TB"
   },
   "source": [
    "## Arquivo de Resultados\n",
    "\n"
   ]
  },
  {
   "cell_type": "code",
   "execution_count": 11,
   "metadata": {
    "id": "dRwnzh8kYK_G"
   },
   "outputs": [
    {
     "data": {
      "text/plain": [
       "30"
      ]
     },
     "execution_count": 11,
     "metadata": {},
     "output_type": "execute_result"
    }
   ],
   "source": [
    "#NÃO ALTERE AS LINHAS ABAIXO\n",
    "tp1_csv = \"TP2.csv\"\n",
    "queries = open(tp1_csv, 'w')\n",
    "writer = csv.writer(queries, delimiter=';')\n",
    "writer.writerow([\"Query Number\", \"Row Count\", \"Query\"])"
   ]
  },
  {
   "cell_type": "markdown",
   "metadata": {
    "id": "uhNxD8rdQNCh"
   },
   "source": [
    "## Função de Consulta\n",
    "A função abaixo executa a consulta, exibe o retorno da consulta no banco e grava os dados necessários no arquivo resultado."
   ]
  },
  {
   "cell_type": "code",
   "execution_count": 12,
   "metadata": {
    "id": "1REuYZGrY92T"
   },
   "outputs": [],
   "source": [
    "#NÃO ALTERE AS LINHAS ABAIXO\n",
    "def runQuery(query, query_name):\n",
    "  df = pd.read_sql(query, con)\n",
    "  query_size = df.shape[0]\n",
    "  writer.writerow([query_name, query_size, query])\n",
    "  display(df)"
   ]
  },
  {
   "cell_type": "markdown",
   "metadata": {
    "id": "lRYyoTpcXfIV"
   },
   "source": [
    "## CONSULTAS SQL"
   ]
  },
  {
   "cell_type": "markdown",
   "metadata": {
    "id": "NzOHoiA6ZBul"
   },
   "source": [
    "### QUANTIDADE DE FAMILIAS INSCRITAS NO CRAS POR REGIÃO DE BH\n"
   ]
  },
  {
   "cell_type": "code",
   "execution_count": 13,
   "metadata": {
    "id": "K0ISjW0gXxVC"
   },
   "outputs": [
    {
     "data": {
      "text/html": [
       "<div>\n",
       "<style scoped>\n",
       "    .dataframe tbody tr th:only-of-type {\n",
       "        vertical-align: middle;\n",
       "    }\n",
       "\n",
       "    .dataframe tbody tr th {\n",
       "        vertical-align: top;\n",
       "    }\n",
       "\n",
       "    .dataframe thead th {\n",
       "        text-align: right;\n",
       "    }\n",
       "</style>\n",
       "<table border=\"1\" class=\"dataframe\">\n",
       "  <thead>\n",
       "    <tr style=\"text-align: right;\">\n",
       "      <th></th>\n",
       "      <th>nome_regiao</th>\n",
       "      <th>familias_regiao</th>\n",
       "    </tr>\n",
       "  </thead>\n",
       "  <tbody>\n",
       "    <tr>\n",
       "      <th>0</th>\n",
       "      <td>Endereco FORA Region</td>\n",
       "      <td>6</td>\n",
       "    </tr>\n",
       "    <tr>\n",
       "      <th>1</th>\n",
       "      <td>PAMPULHA</td>\n",
       "      <td>23328</td>\n",
       "    </tr>\n",
       "    <tr>\n",
       "      <th>2</th>\n",
       "      <td>CENTRO-SUL</td>\n",
       "      <td>24355</td>\n",
       "    </tr>\n",
       "    <tr>\n",
       "      <th>3</th>\n",
       "      <td>NOROESTE</td>\n",
       "      <td>28236</td>\n",
       "    </tr>\n",
       "    <tr>\n",
       "      <th>4</th>\n",
       "      <td>LESTE</td>\n",
       "      <td>28713</td>\n",
       "    </tr>\n",
       "    <tr>\n",
       "      <th>5</th>\n",
       "      <td>OESTE</td>\n",
       "      <td>29193</td>\n",
       "    </tr>\n",
       "    <tr>\n",
       "      <th>6</th>\n",
       "      <td>NORDESTE</td>\n",
       "      <td>34773</td>\n",
       "    </tr>\n",
       "    <tr>\n",
       "      <th>7</th>\n",
       "      <td>VENDA NOVA</td>\n",
       "      <td>35514</td>\n",
       "    </tr>\n",
       "    <tr>\n",
       "      <th>8</th>\n",
       "      <td>BARREIRO</td>\n",
       "      <td>39171</td>\n",
       "    </tr>\n",
       "    <tr>\n",
       "      <th>9</th>\n",
       "      <td>NORTE</td>\n",
       "      <td>42245</td>\n",
       "    </tr>\n",
       "  </tbody>\n",
       "</table>\n",
       "</div>"
      ],
      "text/plain": [
       "            nome_regiao  familias_regiao\n",
       "0  Endereco FORA Region                6\n",
       "1              PAMPULHA            23328\n",
       "2            CENTRO-SUL            24355\n",
       "3              NOROESTE            28236\n",
       "4                 LESTE            28713\n",
       "5                 OESTE            29193\n",
       "6              NORDESTE            34773\n",
       "7            VENDA NOVA            35514\n",
       "8              BARREIRO            39171\n",
       "9                 NORTE            42245"
      ]
     },
     "metadata": {},
     "output_type": "display_data"
    }
   ],
   "source": [
    "a1 = \"SELECT regioes.nome_regiao, SUM(familias_cras.qtde_familias) AS familias_regiao FROM regioes JOIN familias_cras ON regioes.regiao_id = familias_cras.regiao_id GROUP BY regioes.nome_regiao ORDER BY familias_regiao ASC;\"\n",
    "#NÃO ALTERE A LINHA ABAIXO\n",
    "runQuery(a1, \"a1\")"
   ]
  },
  {
   "cell_type": "markdown",
   "metadata": {
    "id": "1yvlpqVjZFho"
   },
   "source": [
    "### QUANTIDADE DE CENTROS DE SAÚDE POR REGIÃO DE BH"
   ]
  },
  {
   "cell_type": "code",
   "execution_count": 14,
   "metadata": {
    "id": "JIUuV2_RXxhS"
   },
   "outputs": [
    {
     "data": {
      "text/html": [
       "<div>\n",
       "<style scoped>\n",
       "    .dataframe tbody tr th:only-of-type {\n",
       "        vertical-align: middle;\n",
       "    }\n",
       "\n",
       "    .dataframe tbody tr th {\n",
       "        vertical-align: top;\n",
       "    }\n",
       "\n",
       "    .dataframe thead th {\n",
       "        text-align: right;\n",
       "    }\n",
       "</style>\n",
       "<table border=\"1\" class=\"dataframe\">\n",
       "  <thead>\n",
       "    <tr style=\"text-align: right;\">\n",
       "      <th></th>\n",
       "      <th>nome_regiao</th>\n",
       "      <th>centros_regiao</th>\n",
       "    </tr>\n",
       "  </thead>\n",
       "  <tbody>\n",
       "    <tr>\n",
       "      <th>0</th>\n",
       "      <td>CENTRO-SUL</td>\n",
       "      <td>12</td>\n",
       "    </tr>\n",
       "    <tr>\n",
       "      <th>1</th>\n",
       "      <td>LESTE</td>\n",
       "      <td>14</td>\n",
       "    </tr>\n",
       "    <tr>\n",
       "      <th>2</th>\n",
       "      <td>PAMPULHA</td>\n",
       "      <td>14</td>\n",
       "    </tr>\n",
       "    <tr>\n",
       "      <th>3</th>\n",
       "      <td>NOROESTE</td>\n",
       "      <td>16</td>\n",
       "    </tr>\n",
       "    <tr>\n",
       "      <th>4</th>\n",
       "      <td>VENDA NOVA</td>\n",
       "      <td>17</td>\n",
       "    </tr>\n",
       "    <tr>\n",
       "      <th>5</th>\n",
       "      <td>OESTE</td>\n",
       "      <td>18</td>\n",
       "    </tr>\n",
       "    <tr>\n",
       "      <th>6</th>\n",
       "      <td>BARREIRO</td>\n",
       "      <td>20</td>\n",
       "    </tr>\n",
       "    <tr>\n",
       "      <th>7</th>\n",
       "      <td>NORTE</td>\n",
       "      <td>20</td>\n",
       "    </tr>\n",
       "    <tr>\n",
       "      <th>8</th>\n",
       "      <td>NORDESTE</td>\n",
       "      <td>21</td>\n",
       "    </tr>\n",
       "  </tbody>\n",
       "</table>\n",
       "</div>"
      ],
      "text/plain": [
       "  nome_regiao  centros_regiao\n",
       "0  CENTRO-SUL              12\n",
       "1       LESTE              14\n",
       "2    PAMPULHA              14\n",
       "3    NOROESTE              16\n",
       "4  VENDA NOVA              17\n",
       "5       OESTE              18\n",
       "6    BARREIRO              20\n",
       "7       NORTE              20\n",
       "8    NORDESTE              21"
      ]
     },
     "metadata": {},
     "output_type": "display_data"
    }
   ],
   "source": [
    "a2 = \"SELECT regioes.nome_regiao, COUNT(abrangencia_saude.id_area_abrangencia_saude) AS centros_regiao FROM regioes JOIN abrangencia_saude ON regioes.nome_regiao = abrangencia_saude.nome_regiao GROUP BY regioes.nome_regiao ORDER BY centros_regiao;\"\n",
    "#NÃO ALTERE A LINHA ABAIXO\n",
    "runQuery(a2, \"a2\")"
   ]
  },
  {
   "cell_type": "markdown",
   "metadata": {
    "id": "oPCZUoeNZNGA"
   },
   "source": [
    "### QUANTIDADE DE ESCOLAS POR REGIÃO DE BH"
   ]
  },
  {
   "cell_type": "code",
   "execution_count": 15,
   "metadata": {
    "id": "xd-dr96uXxu9"
   },
   "outputs": [
    {
     "data": {
      "text/html": [
       "<div>\n",
       "<style scoped>\n",
       "    .dataframe tbody tr th:only-of-type {\n",
       "        vertical-align: middle;\n",
       "    }\n",
       "\n",
       "    .dataframe tbody tr th {\n",
       "        vertical-align: top;\n",
       "    }\n",
       "\n",
       "    .dataframe thead th {\n",
       "        text-align: right;\n",
       "    }\n",
       "</style>\n",
       "<table border=\"1\" class=\"dataframe\">\n",
       "  <thead>\n",
       "    <tr style=\"text-align: right;\">\n",
       "      <th></th>\n",
       "      <th>nome_regiao</th>\n",
       "      <th>escolas_regiao</th>\n",
       "    </tr>\n",
       "  </thead>\n",
       "  <tbody>\n",
       "    <tr>\n",
       "      <th>0</th>\n",
       "      <td>CENTRO-SUL</td>\n",
       "      <td>50</td>\n",
       "    </tr>\n",
       "    <tr>\n",
       "      <th>1</th>\n",
       "      <td>PAMPULHA</td>\n",
       "      <td>52</td>\n",
       "    </tr>\n",
       "    <tr>\n",
       "      <th>2</th>\n",
       "      <td>LESTE</td>\n",
       "      <td>56</td>\n",
       "    </tr>\n",
       "    <tr>\n",
       "      <th>3</th>\n",
       "      <td>OESTE</td>\n",
       "      <td>56</td>\n",
       "    </tr>\n",
       "    <tr>\n",
       "      <th>4</th>\n",
       "      <td>NOROESTE</td>\n",
       "      <td>59</td>\n",
       "    </tr>\n",
       "    <tr>\n",
       "      <th>5</th>\n",
       "      <td>VENDA NOVA</td>\n",
       "      <td>63</td>\n",
       "    </tr>\n",
       "    <tr>\n",
       "      <th>6</th>\n",
       "      <td>NORTE</td>\n",
       "      <td>67</td>\n",
       "    </tr>\n",
       "    <tr>\n",
       "      <th>7</th>\n",
       "      <td>NORDESTE</td>\n",
       "      <td>75</td>\n",
       "    </tr>\n",
       "    <tr>\n",
       "      <th>8</th>\n",
       "      <td>BARREIRO</td>\n",
       "      <td>77</td>\n",
       "    </tr>\n",
       "  </tbody>\n",
       "</table>\n",
       "</div>"
      ],
      "text/plain": [
       "  nome_regiao  escolas_regiao\n",
       "0  CENTRO-SUL              50\n",
       "1    PAMPULHA              52\n",
       "2       LESTE              56\n",
       "3       OESTE              56\n",
       "4    NOROESTE              59\n",
       "5  VENDA NOVA              63\n",
       "6       NORTE              67\n",
       "7    NORDESTE              75\n",
       "8    BARREIRO              77"
      ]
     },
     "metadata": {},
     "output_type": "display_data"
    }
   ],
   "source": [
    "a3 = \"SELECT regioes.nome_regiao, COUNT(rede_municipal_escolas.id_equip_educacao) AS escolas_regiao FROM regioes JOIN rede_municipal_escolas ON regioes.nome_regiao = rede_municipal_escolas.nome_regiao GROUP BY regioes.nome_regiao ORDER BY escolas_regiao ASC;\"\n",
    "#NÃO ALTERE A LINHA ABAIXO\n",
    "runQuery(a3, \"a3\")"
   ]
  },
  {
   "cell_type": "markdown",
   "metadata": {},
   "source": [
    "### QUANTIDADE DE CENTROS ESPORTIVOS POR REGIÃO DE BH"
   ]
  },
  {
   "cell_type": "code",
   "execution_count": null,
   "metadata": {},
   "outputs": [],
   "source": [
    "a4 = \"SELECT  regioes.nome_regiao, abrangencia_saude.nome_bairro_popular, COUNT(abrangencia_saude.id_area_abrangencia_saude) AS total_bairro FROM abrangencia_saude JOIN regioes ON abrangencia_saude.nome_regiao = regioes.nome_regiao GROUP BY abrangencia_saude.nome_bairro_popular ORDER BY total_bairro DESC LIMIT 10;\"\n",
    "#NÃO ALTERE A LINHA ABAIXO\n",
    "runQuery(a4, \"a4\")"
   ]
  },
  {
   "cell_type": "markdown",
   "metadata": {
    "id": "2l0qzHBRSoro"
   },
   "source": [
    "### TOP 10 BAIRROS COM MAIS CENTROS DE SAÚDE DE BH"
   ]
  },
  {
   "cell_type": "code",
   "execution_count": 16,
   "metadata": {
    "id": "CvnC0xN2TB0x"
   },
   "outputs": [
    {
     "data": {
      "text/html": [
       "<div>\n",
       "<style scoped>\n",
       "    .dataframe tbody tr th:only-of-type {\n",
       "        vertical-align: middle;\n",
       "    }\n",
       "\n",
       "    .dataframe tbody tr th {\n",
       "        vertical-align: top;\n",
       "    }\n",
       "\n",
       "    .dataframe thead th {\n",
       "        text-align: right;\n",
       "    }\n",
       "</style>\n",
       "<table border=\"1\" class=\"dataframe\">\n",
       "  <thead>\n",
       "    <tr style=\"text-align: right;\">\n",
       "      <th></th>\n",
       "      <th>nome_regiao</th>\n",
       "      <th>nome_bairro_popular</th>\n",
       "      <th>total_bairro</th>\n",
       "    </tr>\n",
       "  </thead>\n",
       "  <tbody>\n",
       "    <tr>\n",
       "      <th>0</th>\n",
       "      <td>NORTE</td>\n",
       "      <td>Jaqueline</td>\n",
       "      <td>3</td>\n",
       "    </tr>\n",
       "    <tr>\n",
       "      <th>1</th>\n",
       "      <td>CENTRO-SUL</td>\n",
       "      <td>Santo AntÃ´nio</td>\n",
       "      <td>2</td>\n",
       "    </tr>\n",
       "    <tr>\n",
       "      <th>2</th>\n",
       "      <td>VENDA NOVA</td>\n",
       "      <td>Santa MÃ´nica</td>\n",
       "      <td>2</td>\n",
       "    </tr>\n",
       "    <tr>\n",
       "      <th>3</th>\n",
       "      <td>NORDESTE</td>\n",
       "      <td>Ribeiro de Abreu</td>\n",
       "      <td>2</td>\n",
       "    </tr>\n",
       "    <tr>\n",
       "      <th>4</th>\n",
       "      <td>PAMPULHA</td>\n",
       "      <td>Ouro Preto</td>\n",
       "      <td>2</td>\n",
       "    </tr>\n",
       "    <tr>\n",
       "      <th>5</th>\n",
       "      <td>VENDA NOVA</td>\n",
       "      <td>Mantiqueira</td>\n",
       "      <td>2</td>\n",
       "    </tr>\n",
       "    <tr>\n",
       "      <th>6</th>\n",
       "      <td>OESTE</td>\n",
       "      <td>Madre Gertrudes</td>\n",
       "      <td>2</td>\n",
       "    </tr>\n",
       "    <tr>\n",
       "      <th>7</th>\n",
       "      <td>BARREIRO</td>\n",
       "      <td>LindÃ©ia</td>\n",
       "      <td>2</td>\n",
       "    </tr>\n",
       "    <tr>\n",
       "      <th>8</th>\n",
       "      <td>VENDA NOVA</td>\n",
       "      <td>Jardim dos ComerciÃ¡rios</td>\n",
       "      <td>2</td>\n",
       "    </tr>\n",
       "    <tr>\n",
       "      <th>9</th>\n",
       "      <td>NORTE</td>\n",
       "      <td>Jardim Felicidade</td>\n",
       "      <td>2</td>\n",
       "    </tr>\n",
       "  </tbody>\n",
       "</table>\n",
       "</div>"
      ],
      "text/plain": [
       "  nome_regiao       nome_bairro_popular  total_bairro\n",
       "0       NORTE                 Jaqueline             3\n",
       "1  CENTRO-SUL            Santo AntÃ´nio             2\n",
       "2  VENDA NOVA             Santa MÃ´nica             2\n",
       "3    NORDESTE          Ribeiro de Abreu             2\n",
       "4    PAMPULHA                Ouro Preto             2\n",
       "5  VENDA NOVA               Mantiqueira             2\n",
       "6       OESTE           Madre Gertrudes             2\n",
       "7    BARREIRO                  LindÃ©ia             2\n",
       "8  VENDA NOVA  Jardim dos ComerciÃ¡rios             2\n",
       "9       NORTE         Jardim Felicidade             2"
      ]
     },
     "metadata": {},
     "output_type": "display_data"
    }
   ],
   "source": [
    "a5 = \"SELECT  regioes.nome_regiao, abrangencia_saude.nome_bairro_popular, COUNT(abrangencia_saude.id_area_abrangencia_saude) AS total_bairro FROM abrangencia_saude JOIN regioes ON abrangencia_saude.nome_regiao = regioes.nome_regiao GROUP BY abrangencia_saude.nome_bairro_popular ORDER BY total_bairro DESC LIMIT 10;\"\n",
    "#NÃO ALTERE A LINHA ABAIXO\n",
    "runQuery(a4, \"a4\")"
   ]
  },
  {
   "cell_type": "markdown",
   "metadata": {
    "id": "oPCZUoeNZNGA"
   },
   "source": [
    "### TOP 10 BAIRROS COM MAIS ESCOLAS DE BH\n"
   ]
  },
  {
   "cell_type": "code",
   "execution_count": 17,
   "metadata": {
    "id": "cHnE0cZyTq-K"
   },
   "outputs": [
    {
     "data": {
      "text/html": [
       "<div>\n",
       "<style scoped>\n",
       "    .dataframe tbody tr th:only-of-type {\n",
       "        vertical-align: middle;\n",
       "    }\n",
       "\n",
       "    .dataframe tbody tr th {\n",
       "        vertical-align: top;\n",
       "    }\n",
       "\n",
       "    .dataframe thead th {\n",
       "        text-align: right;\n",
       "    }\n",
       "</style>\n",
       "<table border=\"1\" class=\"dataframe\">\n",
       "  <thead>\n",
       "    <tr style=\"text-align: right;\">\n",
       "      <th></th>\n",
       "      <th>nome_regiao</th>\n",
       "      <th>nome_bairro_popular</th>\n",
       "      <th>total_bairro</th>\n",
       "    </tr>\n",
       "  </thead>\n",
       "  <tbody>\n",
       "    <tr>\n",
       "      <th>0</th>\n",
       "      <td>VENDA NOVA</td>\n",
       "      <td>CÃ©u Azul</td>\n",
       "      <td>8</td>\n",
       "    </tr>\n",
       "    <tr>\n",
       "      <th>1</th>\n",
       "      <td>BARREIRO</td>\n",
       "      <td>Tirol</td>\n",
       "      <td>7</td>\n",
       "    </tr>\n",
       "    <tr>\n",
       "      <th>2</th>\n",
       "      <td>VENDA NOVA</td>\n",
       "      <td>Mantiqueira</td>\n",
       "      <td>7</td>\n",
       "    </tr>\n",
       "    <tr>\n",
       "      <th>3</th>\n",
       "      <td>BARREIRO</td>\n",
       "      <td>LindÃ©ia</td>\n",
       "      <td>7</td>\n",
       "    </tr>\n",
       "    <tr>\n",
       "      <th>4</th>\n",
       "      <td>NORTE</td>\n",
       "      <td>Jardim Felicidade</td>\n",
       "      <td>7</td>\n",
       "    </tr>\n",
       "    <tr>\n",
       "      <th>5</th>\n",
       "      <td>LESTE</td>\n",
       "      <td>Taquaril</td>\n",
       "      <td>6</td>\n",
       "    </tr>\n",
       "    <tr>\n",
       "      <th>6</th>\n",
       "      <td>CENTRO-SUL</td>\n",
       "      <td>Santo AntÃ´nio</td>\n",
       "      <td>6</td>\n",
       "    </tr>\n",
       "    <tr>\n",
       "      <th>7</th>\n",
       "      <td>PAMPULHA</td>\n",
       "      <td>Santa Terezinha</td>\n",
       "      <td>6</td>\n",
       "    </tr>\n",
       "    <tr>\n",
       "      <th>8</th>\n",
       "      <td>OESTE</td>\n",
       "      <td>Salgado Filho</td>\n",
       "      <td>6</td>\n",
       "    </tr>\n",
       "    <tr>\n",
       "      <th>9</th>\n",
       "      <td>NORDESTE</td>\n",
       "      <td>Jardim VitÃ³ria</td>\n",
       "      <td>6</td>\n",
       "    </tr>\n",
       "  </tbody>\n",
       "</table>\n",
       "</div>"
      ],
      "text/plain": [
       "  nome_regiao nome_bairro_popular  total_bairro\n",
       "0  VENDA NOVA           CÃ©u Azul             8\n",
       "1    BARREIRO               Tirol             7\n",
       "2  VENDA NOVA         Mantiqueira             7\n",
       "3    BARREIRO            LindÃ©ia             7\n",
       "4       NORTE   Jardim Felicidade             7\n",
       "5       LESTE            Taquaril             6\n",
       "6  CENTRO-SUL      Santo AntÃ´nio             6\n",
       "7    PAMPULHA     Santa Terezinha             6\n",
       "8       OESTE       Salgado Filho             6\n",
       "9    NORDESTE     Jardim VitÃ³ria             6"
      ]
     },
     "metadata": {},
     "output_type": "display_data"
    }
   ],
   "source": [
    "a6 = \"SELECT regioes.nome_regiao, rede_municipal_escolas.nome_bairro_popular, COUNT(rede_municipal_escolas.nome_bairro_popular) AS total_bairro FROM rede_municipal_escolas JOIN regioes ON regioes.nome_regiao = rede_municipal_escolas.nome_regiao GROUP BY nome_bairro_popular ORDER BY total_bairro DESC LIMIT 10;\"\n",
    "#NÃO ALTERE A LINHA ABAIXO\n",
    "runQuery(a5, \"a5\")"
   ]
  },
  {
   "cell_type": "markdown",
   "metadata": {
    "id": "2ftAbAxDWqG2"
   },
   "source": [
    "# Finalizando o Banco de Dados e o Arquivo de Consultas gerado:"
   ]
  },
  {
   "cell_type": "code",
   "execution_count": null,
   "metadata": {
    "id": "liMikAbtIauA"
   },
   "outputs": [],
   "source": [
    "#NÃO ALTERE AS LINHAS ABAIXO\n",
    "queries.close()\n",
    "con.close()"
   ]
  },
  {
   "cell_type": "markdown",
   "metadata": {
    "id": "ZpgeqGXs7TUp"
   },
   "source": [
    "## Compactando Arquivos\n",
    "Na célula abaixo, substitua onde está escrito MATRÍCULA pelo seu número de matrícula."
   ]
  },
  {
   "cell_type": "code",
   "execution_count": null,
   "metadata": {
    "id": "a_nL7tLM7k7q"
   },
   "outputs": [],
   "source": [
    "#ALTERE ONDE ESTÁ ESCRITO MATRICULA para o numero de sua Matrícula\n",
    "!zip -r \"TP2.zip\" \"TP2.ipynb\" \"TP2.csv\""
   ]
  },
  {
   "cell_type": "markdown",
   "metadata": {
    "id": "2ftAbAxDWqG2"
   },
   "source": [
    "**LEMBRE-SE:** Após finalizar todas as consultas, clique em *Kernel -> Restart and Run All* no ambiente em que estiver usando (Jupyter ou Google Colab)\n",
    "\n",
    "Caso esteja usando o Google Colab, colocar manualmente o arquivo .ipynb no zip"
   ]
  }
 ],
 "metadata": {
  "colab": {
   "provenance": []
  },
  "kernelspec": {
   "display_name": "Python 3 (ipykernel)",
   "language": "python",
   "name": "python3"
  },
  "language_info": {
   "codemirror_mode": {
    "name": "ipython",
    "version": 3
   },
   "file_extension": ".py",
   "mimetype": "text/x-python",
   "name": "python",
   "nbconvert_exporter": "python",
   "pygments_lexer": "ipython3",
   "version": "3.11.5"
  }
 },
 "nbformat": 4,
 "nbformat_minor": 1
}
