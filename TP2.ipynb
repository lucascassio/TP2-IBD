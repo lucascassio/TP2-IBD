{
 "cells": [
  {
   "cell_type": "markdown",
   "metadata": {
    "id": "eBY8RGfz2E1j"
   },
   "source": [
    "# TRABALHO PRÁTICO 2\n"
   ]
  },
  {
   "cell_type": "code",
   "execution_count": 1,
   "metadata": {
    "id": "MZfJfrgrOdUz"
   },
   "outputs": [
    {
     "name": "stdout",
     "output_type": "stream",
     "text": [
      "Requirement already satisfied: pandas in /Users/lucascassio/anaconda3/lib/python3.11/site-packages (2.0.3)\n",
      "Requirement already satisfied: python-dateutil>=2.8.2 in /Users/lucascassio/anaconda3/lib/python3.11/site-packages (from pandas) (2.8.2)\n",
      "Requirement already satisfied: pytz>=2020.1 in /Users/lucascassio/anaconda3/lib/python3.11/site-packages (from pandas) (2023.3.post1)\n",
      "Requirement already satisfied: tzdata>=2022.1 in /Users/lucascassio/anaconda3/lib/python3.11/site-packages (from pandas) (2023.3)\n",
      "Requirement already satisfied: numpy>=1.21.0 in /Users/lucascassio/anaconda3/lib/python3.11/site-packages (from pandas) (1.24.3)\n",
      "Requirement already satisfied: six>=1.5 in /Users/lucascassio/anaconda3/lib/python3.11/site-packages (from python-dateutil>=2.8.2->pandas) (1.16.0)\n",
      "Requirement already satisfied: gdown in /Users/lucascassio/anaconda3/lib/python3.11/site-packages (4.7.1)\n",
      "Requirement already satisfied: filelock in /Users/lucascassio/anaconda3/lib/python3.11/site-packages (from gdown) (3.9.0)\n",
      "Requirement already satisfied: requests[socks] in /Users/lucascassio/anaconda3/lib/python3.11/site-packages (from gdown) (2.31.0)\n",
      "Requirement already satisfied: six in /Users/lucascassio/anaconda3/lib/python3.11/site-packages (from gdown) (1.16.0)\n",
      "Requirement already satisfied: tqdm in /Users/lucascassio/anaconda3/lib/python3.11/site-packages (from gdown) (4.65.0)\n",
      "Requirement already satisfied: beautifulsoup4 in /Users/lucascassio/anaconda3/lib/python3.11/site-packages (from gdown) (4.12.2)\n",
      "Requirement already satisfied: soupsieve>1.2 in /Users/lucascassio/anaconda3/lib/python3.11/site-packages (from beautifulsoup4->gdown) (2.4)\n",
      "Requirement already satisfied: charset-normalizer<4,>=2 in /Users/lucascassio/anaconda3/lib/python3.11/site-packages (from requests[socks]->gdown) (2.0.4)\n",
      "Requirement already satisfied: idna<4,>=2.5 in /Users/lucascassio/anaconda3/lib/python3.11/site-packages (from requests[socks]->gdown) (3.4)\n",
      "Requirement already satisfied: urllib3<3,>=1.21.1 in /Users/lucascassio/anaconda3/lib/python3.11/site-packages (from requests[socks]->gdown) (1.26.16)\n",
      "Requirement already satisfied: certifi>=2017.4.17 in /Users/lucascassio/anaconda3/lib/python3.11/site-packages (from requests[socks]->gdown) (2023.11.17)\n",
      "Requirement already satisfied: PySocks!=1.5.7,>=1.5.6 in /Users/lucascassio/anaconda3/lib/python3.11/site-packages (from requests[socks]->gdown) (1.7.1)\n"
     ]
    }
   ],
   "source": [
    "#NÃO ALTERE AS LINHAS ABAIXO\n",
    "import sys\n",
    "#!{sys.executable} -m pip install sqlite3\n",
    "!{sys.executable} -m pip install pandas\n",
    "#!{sys.executable} -m pip install csv\n",
    "!{sys.executable} -m pip install gdown"
   ]
  },
  {
   "cell_type": "code",
   "execution_count": 2,
   "metadata": {
    "id": "UTEN6eIxoIW2"
   },
   "outputs": [],
   "source": [
    "#NÃO ALTERE AS LINHAS ABAIXO\n",
    "import sqlite3 as sql3\n",
    "import pandas as pd\n",
    "import csv\n",
    "import gdown"
   ]
  },
  {
   "cell_type": "markdown",
   "metadata": {
    "id": "MZfJfrgrOdUz"
   },
   "source": [
    "## Banco de Dados\n"
   ]
  },
  {
   "cell_type": "code",
   "execution_count": 3,
   "metadata": {
    "id": "-3YwrO_-l2WZ"
   },
   "outputs": [
    {
     "name": "stderr",
     "output_type": "stream",
     "text": [
      "Downloading...\n",
      "From: https://drive.google.com/uc?id=1yf-isUOwy4hA5SDNQOwTZY7IbwPZP0B8\n",
      "To: /Users/lucascassio/Downloads/TP2-IBD-main/databaseTP2sqlite.sql\n",
      "100%|██████████████████████████████████████| 1.06M/1.06M [00:00<00:00, 2.32MB/s]\n"
     ]
    },
    {
     "data": {
      "text/plain": [
       "'databaseTP2sqlite.sql'"
      ]
     },
     "execution_count": 3,
     "metadata": {},
     "output_type": "execute_result"
    }
   ],
   "source": [
    "url = \"https://drive.google.com/uc?id=1yf-isUOwy4hA5SDNQOwTZY7IbwPZP0B8\"\n",
    "output = \"databaseTP2sqlite.sql\"\n",
    "gdown.download(url, output, quiet=False)"
   ]
  },
  {
   "cell_type": "code",
   "execution_count": 4,
   "metadata": {
    "id": "YNbhzCECo-cG"
   },
   "outputs": [],
   "source": [
    "# Conecta-se ao banco de dados\n",
    "con = sql3.connect(\":memory:\")\n",
    "cur = con.cursor()\n",
    "\n",
    "# Executa o script SQL\n",
    "with open(output, encoding=\"utf8\") as sql_file:\n",
    "    db = sql_file.read()\n",
    "    cur.executescript(db)\n",
    "\n",
    "# Commit da transação\n",
    "con.commit()"
   ]
  },
  {
   "cell_type": "markdown",
   "metadata": {
    "id": "-3YwrO_-l2WZ"
   },
   "source": [
    "## Estrutura das Tabelas do Banco de Dados \n",
    "\n"
   ]
  },
  {
   "cell_type": "markdown",
   "metadata": {
    "id": "8hfCV641pC9H"
   },
   "source": [
    "### TABELA REGIOES"
   ]
  },
  {
   "cell_type": "code",
   "execution_count": 5,
   "metadata": {
    "id": "8jkvRmLal28e"
   },
   "outputs": [
    {
     "data": {
      "text/html": [
       "<div>\n",
       "<style scoped>\n",
       "    .dataframe tbody tr th:only-of-type {\n",
       "        vertical-align: middle;\n",
       "    }\n",
       "\n",
       "    .dataframe tbody tr th {\n",
       "        vertical-align: top;\n",
       "    }\n",
       "\n",
       "    .dataframe thead th {\n",
       "        text-align: right;\n",
       "    }\n",
       "</style>\n",
       "<table border=\"1\" class=\"dataframe\">\n",
       "  <thead>\n",
       "    <tr style=\"text-align: right;\">\n",
       "      <th></th>\n",
       "      <th>cid</th>\n",
       "      <th>name</th>\n",
       "      <th>type</th>\n",
       "      <th>notnull</th>\n",
       "      <th>dflt_value</th>\n",
       "      <th>pk</th>\n",
       "    </tr>\n",
       "  </thead>\n",
       "  <tbody>\n",
       "    <tr>\n",
       "      <th>0</th>\n",
       "      <td>0</td>\n",
       "      <td>regiao_id</td>\n",
       "      <td>INTEGER</td>\n",
       "      <td>0</td>\n",
       "      <td>None</td>\n",
       "      <td>1</td>\n",
       "    </tr>\n",
       "    <tr>\n",
       "      <th>1</th>\n",
       "      <td>1</td>\n",
       "      <td>nome_regiao</td>\n",
       "      <td>TEXT</td>\n",
       "      <td>0</td>\n",
       "      <td>None</td>\n",
       "      <td>0</td>\n",
       "    </tr>\n",
       "  </tbody>\n",
       "</table>\n",
       "</div>"
      ],
      "text/plain": [
       "   cid         name     type  notnull dflt_value  pk\n",
       "0    0    regiao_id  INTEGER        0       None   1\n",
       "1    1  nome_regiao     TEXT        0       None   0"
      ]
     },
     "metadata": {},
     "output_type": "display_data"
    }
   ],
   "source": [
    "#NÃO ALTERE AS LINHAS ABAIXO\n",
    "query = \"PRAGMA table_info('regioes')\"\n",
    "df = pd.read_sql(query, con)\n",
    "display(df)"
   ]
  },
  {
   "cell_type": "markdown",
   "metadata": {
    "id": "D3Rt9RGApJIc"
   },
   "source": [
    "### TABELA ABRANGENCIA SAUDE"
   ]
  },
  {
   "cell_type": "code",
   "execution_count": 6,
   "metadata": {
    "id": "KixV7M2lpIue"
   },
   "outputs": [
    {
     "data": {
      "text/html": [
       "<div>\n",
       "<style scoped>\n",
       "    .dataframe tbody tr th:only-of-type {\n",
       "        vertical-align: middle;\n",
       "    }\n",
       "\n",
       "    .dataframe tbody tr th {\n",
       "        vertical-align: top;\n",
       "    }\n",
       "\n",
       "    .dataframe thead th {\n",
       "        text-align: right;\n",
       "    }\n",
       "</style>\n",
       "<table border=\"1\" class=\"dataframe\">\n",
       "  <thead>\n",
       "    <tr style=\"text-align: right;\">\n",
       "      <th></th>\n",
       "      <th>cid</th>\n",
       "      <th>name</th>\n",
       "      <th>type</th>\n",
       "      <th>notnull</th>\n",
       "      <th>dflt_value</th>\n",
       "      <th>pk</th>\n",
       "    </tr>\n",
       "  </thead>\n",
       "  <tbody>\n",
       "    <tr>\n",
       "      <th>0</th>\n",
       "      <td>0</td>\n",
       "      <td>id_area_abrangencia_saude</td>\n",
       "      <td>INT</td>\n",
       "      <td>0</td>\n",
       "      <td>None</td>\n",
       "      <td>0</td>\n",
       "    </tr>\n",
       "    <tr>\n",
       "      <th>1</th>\n",
       "      <td>1</td>\n",
       "      <td>cod_smsa</td>\n",
       "      <td>INT</td>\n",
       "      <td>0</td>\n",
       "      <td>None</td>\n",
       "      <td>0</td>\n",
       "    </tr>\n",
       "    <tr>\n",
       "      <th>2</th>\n",
       "      <td>2</td>\n",
       "      <td>nome_area_abrangencia</td>\n",
       "      <td>TEXT</td>\n",
       "      <td>0</td>\n",
       "      <td>None</td>\n",
       "      <td>0</td>\n",
       "    </tr>\n",
       "    <tr>\n",
       "      <th>3</th>\n",
       "      <td>3</td>\n",
       "      <td>nome_regiao</td>\n",
       "      <td>TEXT</td>\n",
       "      <td>0</td>\n",
       "      <td>None</td>\n",
       "      <td>0</td>\n",
       "    </tr>\n",
       "    <tr>\n",
       "      <th>4</th>\n",
       "      <td>4</td>\n",
       "      <td>nome_centro_saude</td>\n",
       "      <td>TEXT</td>\n",
       "      <td>0</td>\n",
       "      <td>None</td>\n",
       "      <td>0</td>\n",
       "    </tr>\n",
       "    <tr>\n",
       "      <th>5</th>\n",
       "      <td>5</td>\n",
       "      <td>nome_bairro_popular</td>\n",
       "      <td>TEXT</td>\n",
       "      <td>0</td>\n",
       "      <td>None</td>\n",
       "      <td>0</td>\n",
       "    </tr>\n",
       "    <tr>\n",
       "      <th>6</th>\n",
       "      <td>6</td>\n",
       "      <td>bairro_popular_id</td>\n",
       "      <td>INTEGER</td>\n",
       "      <td>0</td>\n",
       "      <td>None</td>\n",
       "      <td>0</td>\n",
       "    </tr>\n",
       "    <tr>\n",
       "      <th>7</th>\n",
       "      <td>7</td>\n",
       "      <td>regiao_id</td>\n",
       "      <td>INTEGER</td>\n",
       "      <td>0</td>\n",
       "      <td>None</td>\n",
       "      <td>0</td>\n",
       "    </tr>\n",
       "  </tbody>\n",
       "</table>\n",
       "</div>"
      ],
      "text/plain": [
       "   cid                       name     type  notnull dflt_value  pk\n",
       "0    0  id_area_abrangencia_saude      INT        0       None   0\n",
       "1    1                   cod_smsa      INT        0       None   0\n",
       "2    2      nome_area_abrangencia     TEXT        0       None   0\n",
       "3    3                nome_regiao     TEXT        0       None   0\n",
       "4    4          nome_centro_saude     TEXT        0       None   0\n",
       "5    5        nome_bairro_popular     TEXT        0       None   0\n",
       "6    6          bairro_popular_id  INTEGER        0       None   0\n",
       "7    7                  regiao_id  INTEGER        0       None   0"
      ]
     },
     "metadata": {},
     "output_type": "display_data"
    }
   ],
   "source": [
    "#NÃO ALTERE AS LINHAS ABAIXO\n",
    "query = \"PRAGMA table_info('abrangencia_saude')\"\n",
    "df = pd.read_sql(query, con)\n",
    "display(df)"
   ]
  },
  {
   "cell_type": "markdown",
   "metadata": {},
   "source": [
    "### TABELA REDE EQUIPAMENTOS ESPORTIVOS"
   ]
  },
  {
   "cell_type": "code",
   "execution_count": 7,
   "metadata": {
    "scrolled": true
   },
   "outputs": [
    {
     "data": {
      "text/html": [
       "<div>\n",
       "<style scoped>\n",
       "    .dataframe tbody tr th:only-of-type {\n",
       "        vertical-align: middle;\n",
       "    }\n",
       "\n",
       "    .dataframe tbody tr th {\n",
       "        vertical-align: top;\n",
       "    }\n",
       "\n",
       "    .dataframe thead th {\n",
       "        text-align: right;\n",
       "    }\n",
       "</style>\n",
       "<table border=\"1\" class=\"dataframe\">\n",
       "  <thead>\n",
       "    <tr style=\"text-align: right;\">\n",
       "      <th></th>\n",
       "      <th>cid</th>\n",
       "      <th>name</th>\n",
       "      <th>type</th>\n",
       "      <th>notnull</th>\n",
       "      <th>dflt_value</th>\n",
       "      <th>pk</th>\n",
       "    </tr>\n",
       "  </thead>\n",
       "  <tbody>\n",
       "    <tr>\n",
       "      <th>0</th>\n",
       "      <td>0</td>\n",
       "      <td>id_eq_esp</td>\n",
       "      <td>INT</td>\n",
       "      <td>0</td>\n",
       "      <td>None</td>\n",
       "      <td>0</td>\n",
       "    </tr>\n",
       "    <tr>\n",
       "      <th>1</th>\n",
       "      <td>1</td>\n",
       "      <td>nome</td>\n",
       "      <td>TEXT</td>\n",
       "      <td>0</td>\n",
       "      <td>None</td>\n",
       "      <td>0</td>\n",
       "    </tr>\n",
       "    <tr>\n",
       "      <th>2</th>\n",
       "      <td>2</td>\n",
       "      <td>nome_popular</td>\n",
       "      <td>TEXT</td>\n",
       "      <td>0</td>\n",
       "      <td>None</td>\n",
       "      <td>0</td>\n",
       "    </tr>\n",
       "    <tr>\n",
       "      <th>3</th>\n",
       "      <td>3</td>\n",
       "      <td>tipo</td>\n",
       "      <td>TEXT</td>\n",
       "      <td>0</td>\n",
       "      <td>None</td>\n",
       "      <td>0</td>\n",
       "    </tr>\n",
       "    <tr>\n",
       "      <th>4</th>\n",
       "      <td>4</td>\n",
       "      <td>nome_bairro_popular</td>\n",
       "      <td>TEXT</td>\n",
       "      <td>0</td>\n",
       "      <td>None</td>\n",
       "      <td>0</td>\n",
       "    </tr>\n",
       "    <tr>\n",
       "      <th>5</th>\n",
       "      <td>5</td>\n",
       "      <td>complemento</td>\n",
       "      <td>TEXT</td>\n",
       "      <td>0</td>\n",
       "      <td>None</td>\n",
       "      <td>0</td>\n",
       "    </tr>\n",
       "    <tr>\n",
       "      <th>6</th>\n",
       "      <td>6</td>\n",
       "      <td>bairro_popular_id</td>\n",
       "      <td>INTEGER</td>\n",
       "      <td>0</td>\n",
       "      <td>None</td>\n",
       "      <td>0</td>\n",
       "    </tr>\n",
       "  </tbody>\n",
       "</table>\n",
       "</div>"
      ],
      "text/plain": [
       "   cid                 name     type  notnull dflt_value  pk\n",
       "0    0            id_eq_esp      INT        0       None   0\n",
       "1    1                 nome     TEXT        0       None   0\n",
       "2    2         nome_popular     TEXT        0       None   0\n",
       "3    3                 tipo     TEXT        0       None   0\n",
       "4    4  nome_bairro_popular     TEXT        0       None   0\n",
       "5    5          complemento     TEXT        0       None   0\n",
       "6    6    bairro_popular_id  INTEGER        0       None   0"
      ]
     },
     "metadata": {},
     "output_type": "display_data"
    }
   ],
   "source": [
    "#NÃO ALTERE AS LINHAS ABAIXO\n",
    "query = \"PRAGMA table_info('equipamentos_esportivos')\"\n",
    "df = pd.read_sql(query, con)\n",
    "display(df)"
   ]
  },
  {
   "cell_type": "markdown",
   "metadata": {
    "id": "OkYuOWLopLvH"
   },
   "source": [
    "### TABELA REDE MUNICIPAL ESCOLAS"
   ]
  },
  {
   "cell_type": "code",
   "execution_count": 8,
   "metadata": {
    "id": "ipQyCv7EpLif"
   },
   "outputs": [
    {
     "data": {
      "text/html": [
       "<div>\n",
       "<style scoped>\n",
       "    .dataframe tbody tr th:only-of-type {\n",
       "        vertical-align: middle;\n",
       "    }\n",
       "\n",
       "    .dataframe tbody tr th {\n",
       "        vertical-align: top;\n",
       "    }\n",
       "\n",
       "    .dataframe thead th {\n",
       "        text-align: right;\n",
       "    }\n",
       "</style>\n",
       "<table border=\"1\" class=\"dataframe\">\n",
       "  <thead>\n",
       "    <tr style=\"text-align: right;\">\n",
       "      <th></th>\n",
       "      <th>cid</th>\n",
       "      <th>name</th>\n",
       "      <th>type</th>\n",
       "      <th>notnull</th>\n",
       "      <th>dflt_value</th>\n",
       "      <th>pk</th>\n",
       "    </tr>\n",
       "  </thead>\n",
       "  <tbody>\n",
       "    <tr>\n",
       "      <th>0</th>\n",
       "      <td>0</td>\n",
       "      <td>id_equip_educacao</td>\n",
       "      <td>INT</td>\n",
       "      <td>0</td>\n",
       "      <td>None</td>\n",
       "      <td>0</td>\n",
       "    </tr>\n",
       "    <tr>\n",
       "      <th>1</th>\n",
       "      <td>1</td>\n",
       "      <td>nome</td>\n",
       "      <td>TEXT</td>\n",
       "      <td>0</td>\n",
       "      <td>None</td>\n",
       "      <td>0</td>\n",
       "    </tr>\n",
       "    <tr>\n",
       "      <th>2</th>\n",
       "      <td>2</td>\n",
       "      <td>nome_bairro_popular</td>\n",
       "      <td>TEXT</td>\n",
       "      <td>0</td>\n",
       "      <td>None</td>\n",
       "      <td>0</td>\n",
       "    </tr>\n",
       "    <tr>\n",
       "      <th>3</th>\n",
       "      <td>3</td>\n",
       "      <td>nome_regiao</td>\n",
       "      <td>TEXT</td>\n",
       "      <td>0</td>\n",
       "      <td>None</td>\n",
       "      <td>0</td>\n",
       "    </tr>\n",
       "    <tr>\n",
       "      <th>4</th>\n",
       "      <td>4</td>\n",
       "      <td>bairro_popular_id</td>\n",
       "      <td>INTEGER</td>\n",
       "      <td>0</td>\n",
       "      <td>None</td>\n",
       "      <td>0</td>\n",
       "    </tr>\n",
       "    <tr>\n",
       "      <th>5</th>\n",
       "      <td>5</td>\n",
       "      <td>regiao_id</td>\n",
       "      <td>INTEGER</td>\n",
       "      <td>0</td>\n",
       "      <td>None</td>\n",
       "      <td>0</td>\n",
       "    </tr>\n",
       "  </tbody>\n",
       "</table>\n",
       "</div>"
      ],
      "text/plain": [
       "   cid                 name     type  notnull dflt_value  pk\n",
       "0    0    id_equip_educacao      INT        0       None   0\n",
       "1    1                 nome     TEXT        0       None   0\n",
       "2    2  nome_bairro_popular     TEXT        0       None   0\n",
       "3    3          nome_regiao     TEXT        0       None   0\n",
       "4    4    bairro_popular_id  INTEGER        0       None   0\n",
       "5    5            regiao_id  INTEGER        0       None   0"
      ]
     },
     "metadata": {},
     "output_type": "display_data"
    }
   ],
   "source": [
    "#NÃO ALTERE AS LINHAS ABAIXO\n",
    "query = \"PRAGMA table_info('rede_municipal_escolas')\"\n",
    "df = pd.read_sql(query, con)\n",
    "display(df)"
   ]
  },
  {
   "cell_type": "markdown",
   "metadata": {
    "id": "mME1mUVIpODT"
   },
   "source": [
    "### TABELA BAIRROS"
   ]
  },
  {
   "cell_type": "code",
   "execution_count": 9,
   "metadata": {
    "id": "6OzRcTiOpN3j"
   },
   "outputs": [
    {
     "data": {
      "text/html": [
       "<div>\n",
       "<style scoped>\n",
       "    .dataframe tbody tr th:only-of-type {\n",
       "        vertical-align: middle;\n",
       "    }\n",
       "\n",
       "    .dataframe tbody tr th {\n",
       "        vertical-align: top;\n",
       "    }\n",
       "\n",
       "    .dataframe thead th {\n",
       "        text-align: right;\n",
       "    }\n",
       "</style>\n",
       "<table border=\"1\" class=\"dataframe\">\n",
       "  <thead>\n",
       "    <tr style=\"text-align: right;\">\n",
       "      <th></th>\n",
       "      <th>cid</th>\n",
       "      <th>name</th>\n",
       "      <th>type</th>\n",
       "      <th>notnull</th>\n",
       "      <th>dflt_value</th>\n",
       "      <th>pk</th>\n",
       "    </tr>\n",
       "  </thead>\n",
       "  <tbody>\n",
       "    <tr>\n",
       "      <th>0</th>\n",
       "      <td>0</td>\n",
       "      <td>bairro_popular_id</td>\n",
       "      <td>INTEGER</td>\n",
       "      <td>0</td>\n",
       "      <td>None</td>\n",
       "      <td>1</td>\n",
       "    </tr>\n",
       "    <tr>\n",
       "      <th>1</th>\n",
       "      <td>1</td>\n",
       "      <td>nome_bairro_popular</td>\n",
       "      <td>TEXT</td>\n",
       "      <td>0</td>\n",
       "      <td>None</td>\n",
       "      <td>0</td>\n",
       "    </tr>\n",
       "  </tbody>\n",
       "</table>\n",
       "</div>"
      ],
      "text/plain": [
       "   cid                 name     type  notnull dflt_value  pk\n",
       "0    0    bairro_popular_id  INTEGER        0       None   1\n",
       "1    1  nome_bairro_popular     TEXT        0       None   0"
      ]
     },
     "metadata": {},
     "output_type": "display_data"
    }
   ],
   "source": [
    "#NÃO ALTERE AS LINHAS ABAIXO\n",
    "query = \"PRAGMA table_info('bairros')\"\n",
    "df = pd.read_sql(query, con)\n",
    "display(df)"
   ]
  },
  {
   "cell_type": "markdown",
   "metadata": {
    "id": "mME1mUVIpODT"
   },
   "source": [
    "### TABELA FAMILIAS CRAS"
   ]
  },
  {
   "cell_type": "code",
   "execution_count": 10,
   "metadata": {
    "id": "B6B4VS0QpRcO"
   },
   "outputs": [
    {
     "data": {
      "text/html": [
       "<div>\n",
       "<style scoped>\n",
       "    .dataframe tbody tr th:only-of-type {\n",
       "        vertical-align: middle;\n",
       "    }\n",
       "\n",
       "    .dataframe tbody tr th {\n",
       "        vertical-align: top;\n",
       "    }\n",
       "\n",
       "    .dataframe thead th {\n",
       "        text-align: right;\n",
       "    }\n",
       "</style>\n",
       "<table border=\"1\" class=\"dataframe\">\n",
       "  <thead>\n",
       "    <tr style=\"text-align: right;\">\n",
       "      <th></th>\n",
       "      <th>cid</th>\n",
       "      <th>name</th>\n",
       "      <th>type</th>\n",
       "      <th>notnull</th>\n",
       "      <th>dflt_value</th>\n",
       "      <th>pk</th>\n",
       "    </tr>\n",
       "  </thead>\n",
       "  <tbody>\n",
       "    <tr>\n",
       "      <th>0</th>\n",
       "      <td>0</td>\n",
       "      <td>nome_regiao</td>\n",
       "      <td>TEXT</td>\n",
       "      <td>0</td>\n",
       "      <td>None</td>\n",
       "      <td>0</td>\n",
       "    </tr>\n",
       "    <tr>\n",
       "      <th>1</th>\n",
       "      <td>1</td>\n",
       "      <td>qtde_familias</td>\n",
       "      <td>INT</td>\n",
       "      <td>0</td>\n",
       "      <td>None</td>\n",
       "      <td>0</td>\n",
       "    </tr>\n",
       "    <tr>\n",
       "      <th>2</th>\n",
       "      <td>2</td>\n",
       "      <td>mes_ano_referencia</td>\n",
       "      <td>TEXT</td>\n",
       "      <td>0</td>\n",
       "      <td>None</td>\n",
       "      <td>0</td>\n",
       "    </tr>\n",
       "    <tr>\n",
       "      <th>3</th>\n",
       "      <td>3</td>\n",
       "      <td>regiao_id</td>\n",
       "      <td>INTEGER</td>\n",
       "      <td>0</td>\n",
       "      <td>None</td>\n",
       "      <td>0</td>\n",
       "    </tr>\n",
       "  </tbody>\n",
       "</table>\n",
       "</div>"
      ],
      "text/plain": [
       "   cid                name     type  notnull dflt_value  pk\n",
       "0    0         nome_regiao     TEXT        0       None   0\n",
       "1    1       qtde_familias      INT        0       None   0\n",
       "2    2  mes_ano_referencia     TEXT        0       None   0\n",
       "3    3           regiao_id  INTEGER        0       None   0"
      ]
     },
     "metadata": {},
     "output_type": "display_data"
    }
   ],
   "source": [
    "#NÃO ALTERE AS LINHAS ABAIXO\n",
    "query = \"PRAGMA table_info('familias_cras')\"\n",
    "df = pd.read_sql(query, con)\n",
    "display(df)"
   ]
  },
  {
   "cell_type": "markdown",
   "metadata": {
    "id": "yrtZ8sTRP3TB"
   },
   "source": [
    "## Arquivo de Resultados\n",
    "\n"
   ]
  },
  {
   "cell_type": "code",
   "execution_count": 11,
   "metadata": {
    "id": "dRwnzh8kYK_G"
   },
   "outputs": [
    {
     "data": {
      "text/plain": [
       "30"
      ]
     },
     "execution_count": 11,
     "metadata": {},
     "output_type": "execute_result"
    }
   ],
   "source": [
    "#NÃO ALTERE AS LINHAS ABAIXO\n",
    "tp1_csv = \"TP2.csv\"\n",
    "queries = open(tp1_csv, 'w')\n",
    "writer = csv.writer(queries, delimiter=';')\n",
    "writer.writerow([\"Query Number\", \"Row Count\", \"Query\"])"
   ]
  },
  {
   "cell_type": "markdown",
   "metadata": {
    "id": "uhNxD8rdQNCh"
   },
   "source": [
    "## Função de Consulta\n",
    "A função abaixo executa a consulta, exibe o retorno da consulta no banco e grava os dados necessários no arquivo resultado."
   ]
  },
  {
   "cell_type": "code",
   "execution_count": 12,
   "metadata": {
    "id": "1REuYZGrY92T"
   },
   "outputs": [],
   "source": [
    "#NÃO ALTERE AS LINHAS ABAIXO\n",
    "def runQuery(query, query_name):\n",
    "  df = pd.read_sql(query, con)\n",
    "  query_size = df.shape[0]\n",
    "  writer.writerow([query_name, query_size, query])\n",
    "  display(df)"
   ]
  },
  {
   "cell_type": "markdown",
   "metadata": {
    "id": "lRYyoTpcXfIV"
   },
   "source": [
    "## CONSULTAS SQL"
   ]
  },
  {
   "cell_type": "markdown",
   "metadata": {
    "id": "NzOHoiA6ZBul"
   },
   "source": [
    "### QUANTIDADE DE FAMILIAS INSCRITAS NO CRAS POR REGIÃO DE BH\n"
   ]
  },
  {
   "cell_type": "code",
   "execution_count": 13,
   "metadata": {
    "id": "K0ISjW0gXxVC"
   },
   "outputs": [
    {
     "data": {
      "text/html": [
       "<div>\n",
       "<style scoped>\n",
       "    .dataframe tbody tr th:only-of-type {\n",
       "        vertical-align: middle;\n",
       "    }\n",
       "\n",
       "    .dataframe tbody tr th {\n",
       "        vertical-align: top;\n",
       "    }\n",
       "\n",
       "    .dataframe thead th {\n",
       "        text-align: right;\n",
       "    }\n",
       "</style>\n",
       "<table border=\"1\" class=\"dataframe\">\n",
       "  <thead>\n",
       "    <tr style=\"text-align: right;\">\n",
       "      <th></th>\n",
       "      <th>nome_regiao</th>\n",
       "      <th>familias_regiao</th>\n",
       "    </tr>\n",
       "  </thead>\n",
       "  <tbody>\n",
       "    <tr>\n",
       "      <th>0</th>\n",
       "      <td>NORTE</td>\n",
       "      <td>42245</td>\n",
       "    </tr>\n",
       "    <tr>\n",
       "      <th>1</th>\n",
       "      <td>BARREIRO</td>\n",
       "      <td>39171</td>\n",
       "    </tr>\n",
       "    <tr>\n",
       "      <th>2</th>\n",
       "      <td>VENDA NOVA</td>\n",
       "      <td>35514</td>\n",
       "    </tr>\n",
       "    <tr>\n",
       "      <th>3</th>\n",
       "      <td>NORDESTE</td>\n",
       "      <td>34773</td>\n",
       "    </tr>\n",
       "    <tr>\n",
       "      <th>4</th>\n",
       "      <td>OESTE</td>\n",
       "      <td>29193</td>\n",
       "    </tr>\n",
       "    <tr>\n",
       "      <th>5</th>\n",
       "      <td>LESTE</td>\n",
       "      <td>28713</td>\n",
       "    </tr>\n",
       "    <tr>\n",
       "      <th>6</th>\n",
       "      <td>NOROESTE</td>\n",
       "      <td>28236</td>\n",
       "    </tr>\n",
       "    <tr>\n",
       "      <th>7</th>\n",
       "      <td>CENTRO-SUL</td>\n",
       "      <td>24355</td>\n",
       "    </tr>\n",
       "    <tr>\n",
       "      <th>8</th>\n",
       "      <td>PAMPULHA</td>\n",
       "      <td>23328</td>\n",
       "    </tr>\n",
       "    <tr>\n",
       "      <th>9</th>\n",
       "      <td>Endereco FORA Region</td>\n",
       "      <td>6</td>\n",
       "    </tr>\n",
       "  </tbody>\n",
       "</table>\n",
       "</div>"
      ],
      "text/plain": [
       "            nome_regiao  familias_regiao\n",
       "0                 NORTE            42245\n",
       "1              BARREIRO            39171\n",
       "2            VENDA NOVA            35514\n",
       "3              NORDESTE            34773\n",
       "4                 OESTE            29193\n",
       "5                 LESTE            28713\n",
       "6              NOROESTE            28236\n",
       "7            CENTRO-SUL            24355\n",
       "8              PAMPULHA            23328\n",
       "9  Endereco FORA Region                6"
      ]
     },
     "metadata": {},
     "output_type": "display_data"
    }
   ],
   "source": [
    "a1 = \"SELECT regioes.nome_regiao, SUM(familias_cras.qtde_familias) AS familias_regiao FROM regioes JOIN familias_cras ON regioes.regiao_id = familias_cras.regiao_id GROUP BY regioes.nome_regiao ORDER BY familias_regiao DESC;\"\n",
    "#NÃO ALTERE A LINHA ABAIXO\n",
    "runQuery(a1, \"a1\")"
   ]
  },
  {
   "cell_type": "markdown",
   "metadata": {
    "id": "1yvlpqVjZFho"
   },
   "source": [
    "### QUANTIDADE DE CENTROS DE SAÚDE POR REGIÃO DE BH"
   ]
  },
  {
   "cell_type": "code",
   "execution_count": 14,
   "metadata": {
    "id": "JIUuV2_RXxhS"
   },
   "outputs": [
    {
     "data": {
      "text/html": [
       "<div>\n",
       "<style scoped>\n",
       "    .dataframe tbody tr th:only-of-type {\n",
       "        vertical-align: middle;\n",
       "    }\n",
       "\n",
       "    .dataframe tbody tr th {\n",
       "        vertical-align: top;\n",
       "    }\n",
       "\n",
       "    .dataframe thead th {\n",
       "        text-align: right;\n",
       "    }\n",
       "</style>\n",
       "<table border=\"1\" class=\"dataframe\">\n",
       "  <thead>\n",
       "    <tr style=\"text-align: right;\">\n",
       "      <th></th>\n",
       "      <th>nome_regiao</th>\n",
       "      <th>centros_regiao</th>\n",
       "    </tr>\n",
       "  </thead>\n",
       "  <tbody>\n",
       "    <tr>\n",
       "      <th>0</th>\n",
       "      <td>NORDESTE</td>\n",
       "      <td>21</td>\n",
       "    </tr>\n",
       "    <tr>\n",
       "      <th>1</th>\n",
       "      <td>NORTE</td>\n",
       "      <td>20</td>\n",
       "    </tr>\n",
       "    <tr>\n",
       "      <th>2</th>\n",
       "      <td>BARREIRO</td>\n",
       "      <td>20</td>\n",
       "    </tr>\n",
       "    <tr>\n",
       "      <th>3</th>\n",
       "      <td>OESTE</td>\n",
       "      <td>18</td>\n",
       "    </tr>\n",
       "    <tr>\n",
       "      <th>4</th>\n",
       "      <td>VENDA NOVA</td>\n",
       "      <td>17</td>\n",
       "    </tr>\n",
       "    <tr>\n",
       "      <th>5</th>\n",
       "      <td>NOROESTE</td>\n",
       "      <td>16</td>\n",
       "    </tr>\n",
       "    <tr>\n",
       "      <th>6</th>\n",
       "      <td>PAMPULHA</td>\n",
       "      <td>14</td>\n",
       "    </tr>\n",
       "    <tr>\n",
       "      <th>7</th>\n",
       "      <td>LESTE</td>\n",
       "      <td>14</td>\n",
       "    </tr>\n",
       "    <tr>\n",
       "      <th>8</th>\n",
       "      <td>CENTRO-SUL</td>\n",
       "      <td>12</td>\n",
       "    </tr>\n",
       "  </tbody>\n",
       "</table>\n",
       "</div>"
      ],
      "text/plain": [
       "  nome_regiao  centros_regiao\n",
       "0    NORDESTE              21\n",
       "1       NORTE              20\n",
       "2    BARREIRO              20\n",
       "3       OESTE              18\n",
       "4  VENDA NOVA              17\n",
       "5    NOROESTE              16\n",
       "6    PAMPULHA              14\n",
       "7       LESTE              14\n",
       "8  CENTRO-SUL              12"
      ]
     },
     "metadata": {},
     "output_type": "display_data"
    }
   ],
   "source": [
    "a2 = \"SELECT regioes.nome_regiao, COUNT(abrangencia_saude.id_area_abrangencia_saude) AS centros_regiao FROM regioes JOIN abrangencia_saude ON regioes.nome_regiao = abrangencia_saude.nome_regiao GROUP BY regioes.nome_regiao ORDER BY centros_regiao DESC;\"\n",
    "#NÃO ALTERE A LINHA ABAIXO\n",
    "runQuery(a2, \"a2\")"
   ]
  },
  {
   "cell_type": "markdown",
   "metadata": {
    "id": "oPCZUoeNZNGA"
   },
   "source": [
    "### QUANTIDADE DE ESCOLAS POR REGIÃO DE BH"
   ]
  },
  {
   "cell_type": "code",
   "execution_count": 15,
   "metadata": {
    "id": "xd-dr96uXxu9"
   },
   "outputs": [
    {
     "data": {
      "text/html": [
       "<div>\n",
       "<style scoped>\n",
       "    .dataframe tbody tr th:only-of-type {\n",
       "        vertical-align: middle;\n",
       "    }\n",
       "\n",
       "    .dataframe tbody tr th {\n",
       "        vertical-align: top;\n",
       "    }\n",
       "\n",
       "    .dataframe thead th {\n",
       "        text-align: right;\n",
       "    }\n",
       "</style>\n",
       "<table border=\"1\" class=\"dataframe\">\n",
       "  <thead>\n",
       "    <tr style=\"text-align: right;\">\n",
       "      <th></th>\n",
       "      <th>nome_regiao</th>\n",
       "      <th>escolas_regiao</th>\n",
       "    </tr>\n",
       "  </thead>\n",
       "  <tbody>\n",
       "    <tr>\n",
       "      <th>0</th>\n",
       "      <td>BARREIRO</td>\n",
       "      <td>77</td>\n",
       "    </tr>\n",
       "    <tr>\n",
       "      <th>1</th>\n",
       "      <td>NORDESTE</td>\n",
       "      <td>75</td>\n",
       "    </tr>\n",
       "    <tr>\n",
       "      <th>2</th>\n",
       "      <td>NORTE</td>\n",
       "      <td>67</td>\n",
       "    </tr>\n",
       "    <tr>\n",
       "      <th>3</th>\n",
       "      <td>VENDA NOVA</td>\n",
       "      <td>64</td>\n",
       "    </tr>\n",
       "    <tr>\n",
       "      <th>4</th>\n",
       "      <td>NOROESTE</td>\n",
       "      <td>60</td>\n",
       "    </tr>\n",
       "    <tr>\n",
       "      <th>5</th>\n",
       "      <td>OESTE</td>\n",
       "      <td>56</td>\n",
       "    </tr>\n",
       "    <tr>\n",
       "      <th>6</th>\n",
       "      <td>LESTE</td>\n",
       "      <td>56</td>\n",
       "    </tr>\n",
       "    <tr>\n",
       "      <th>7</th>\n",
       "      <td>PAMPULHA</td>\n",
       "      <td>52</td>\n",
       "    </tr>\n",
       "    <tr>\n",
       "      <th>8</th>\n",
       "      <td>CENTRO-SUL</td>\n",
       "      <td>50</td>\n",
       "    </tr>\n",
       "  </tbody>\n",
       "</table>\n",
       "</div>"
      ],
      "text/plain": [
       "  nome_regiao  escolas_regiao\n",
       "0    BARREIRO              77\n",
       "1    NORDESTE              75\n",
       "2       NORTE              67\n",
       "3  VENDA NOVA              64\n",
       "4    NOROESTE              60\n",
       "5       OESTE              56\n",
       "6       LESTE              56\n",
       "7    PAMPULHA              52\n",
       "8  CENTRO-SUL              50"
      ]
     },
     "metadata": {},
     "output_type": "display_data"
    }
   ],
   "source": [
    "a3 = \"SELECT regioes.nome_regiao, COUNT(rede_municipal_escolas.id_equip_educacao) AS escolas_regiao FROM regioes JOIN rede_municipal_escolas ON regioes.nome_regiao = rede_municipal_escolas.nome_regiao GROUP BY regioes.nome_regiao ORDER BY escolas_regiao DESC;\"\n",
    "#NÃO ALTERE A LINHA ABAIXO\n",
    "runQuery(a3, \"a3\")"
   ]
  },
  {
   "cell_type": "markdown",
   "metadata": {},
   "source": [
    "### QUANTIDADE DE CENTROS ESPORTIVOS POR BAIRRO DE BH"
   ]
  },
  {
   "cell_type": "code",
   "execution_count": 16,
   "metadata": {
    "scrolled": true
   },
   "outputs": [
    {
     "data": {
      "text/html": [
       "<div>\n",
       "<style scoped>\n",
       "    .dataframe tbody tr th:only-of-type {\n",
       "        vertical-align: middle;\n",
       "    }\n",
       "\n",
       "    .dataframe tbody tr th {\n",
       "        vertical-align: top;\n",
       "    }\n",
       "\n",
       "    .dataframe thead th {\n",
       "        text-align: right;\n",
       "    }\n",
       "</style>\n",
       "<table border=\"1\" class=\"dataframe\">\n",
       "  <thead>\n",
       "    <tr style=\"text-align: right;\">\n",
       "      <th></th>\n",
       "      <th>nome_bairro_popular</th>\n",
       "      <th>total_equipamentos</th>\n",
       "    </tr>\n",
       "  </thead>\n",
       "  <tbody>\n",
       "    <tr>\n",
       "      <th>0</th>\n",
       "      <td>MANGABEIRAS</td>\n",
       "      <td>21</td>\n",
       "    </tr>\n",
       "    <tr>\n",
       "      <th>1</th>\n",
       "      <td>ALÍPIO DE MELO</td>\n",
       "      <td>12</td>\n",
       "    </tr>\n",
       "    <tr>\n",
       "      <th>2</th>\n",
       "      <td>RIO BRANCO</td>\n",
       "      <td>11</td>\n",
       "    </tr>\n",
       "    <tr>\n",
       "      <th>3</th>\n",
       "      <td>MINASLÂNDIA</td>\n",
       "      <td>11</td>\n",
       "    </tr>\n",
       "    <tr>\n",
       "      <th>4</th>\n",
       "      <td>ITAPOÃ</td>\n",
       "      <td>10</td>\n",
       "    </tr>\n",
       "    <tr>\n",
       "      <th>5</th>\n",
       "      <td>EYMARD</td>\n",
       "      <td>10</td>\n",
       "    </tr>\n",
       "    <tr>\n",
       "      <th>6</th>\n",
       "      <td>CALIFÓRNIA</td>\n",
       "      <td>10</td>\n",
       "    </tr>\n",
       "    <tr>\n",
       "      <th>7</th>\n",
       "      <td>VALE DO JATOBÁ</td>\n",
       "      <td>9</td>\n",
       "    </tr>\n",
       "    <tr>\n",
       "      <th>8</th>\n",
       "      <td>SERRA DO CURRAL</td>\n",
       "      <td>9</td>\n",
       "    </tr>\n",
       "    <tr>\n",
       "      <th>9</th>\n",
       "      <td>DOM BOSCO</td>\n",
       "      <td>8</td>\n",
       "    </tr>\n",
       "  </tbody>\n",
       "</table>\n",
       "</div>"
      ],
      "text/plain": [
       "  nome_bairro_popular  total_equipamentos\n",
       "0         MANGABEIRAS                  21\n",
       "1      ALÍPIO DE MELO                  12\n",
       "2          RIO BRANCO                  11\n",
       "3         MINASLÂNDIA                  11\n",
       "4              ITAPOÃ                  10\n",
       "5              EYMARD                  10\n",
       "6          CALIFÓRNIA                  10\n",
       "7      VALE DO JATOBÁ                   9\n",
       "8     SERRA DO CURRAL                   9\n",
       "9           DOM BOSCO                   8"
      ]
     },
     "metadata": {},
     "output_type": "display_data"
    }
   ],
   "source": [
    "a4 = \"SELECT equipamentos_esportivos.nome_bairro_popular, COUNT(equipamentos_esportivos.id_eq_esp) AS total_equipamentos FROM equipamentos_esportivos WHERE equipamentos_esportivos.nome_bairro_popular != 'None' GROUP BY equipamentos_esportivos.nome_bairro_popular ORDER BY total_equipamentos DESC LIMIT 10;\"\n",
    "#NÃO ALTERE A LINHA ABAIXO\n",
    "runQuery(a4, \"a4\")"
   ]
  },
  {
   "cell_type": "markdown",
   "metadata": {
    "id": "2l0qzHBRSoro"
   },
   "source": [
    "### TOP 10 BAIRROS COM MAIS CENTROS DE SAÚDE DE BH"
   ]
  },
  {
   "cell_type": "code",
   "execution_count": 17,
   "metadata": {
    "id": "CvnC0xN2TB0x"
   },
   "outputs": [
    {
     "data": {
      "text/html": [
       "<div>\n",
       "<style scoped>\n",
       "    .dataframe tbody tr th:only-of-type {\n",
       "        vertical-align: middle;\n",
       "    }\n",
       "\n",
       "    .dataframe tbody tr th {\n",
       "        vertical-align: top;\n",
       "    }\n",
       "\n",
       "    .dataframe thead th {\n",
       "        text-align: right;\n",
       "    }\n",
       "</style>\n",
       "<table border=\"1\" class=\"dataframe\">\n",
       "  <thead>\n",
       "    <tr style=\"text-align: right;\">\n",
       "      <th></th>\n",
       "      <th>nome_regiao</th>\n",
       "      <th>nome_bairro_popular</th>\n",
       "      <th>total_bairro</th>\n",
       "    </tr>\n",
       "  </thead>\n",
       "  <tbody>\n",
       "    <tr>\n",
       "      <th>0</th>\n",
       "      <td>NORTE</td>\n",
       "      <td>Jaqueline</td>\n",
       "      <td>3</td>\n",
       "    </tr>\n",
       "    <tr>\n",
       "      <th>1</th>\n",
       "      <td>CENTRO-SUL</td>\n",
       "      <td>Santo Antônio</td>\n",
       "      <td>2</td>\n",
       "    </tr>\n",
       "    <tr>\n",
       "      <th>2</th>\n",
       "      <td>VENDA NOVA</td>\n",
       "      <td>Santa Mônica</td>\n",
       "      <td>2</td>\n",
       "    </tr>\n",
       "    <tr>\n",
       "      <th>3</th>\n",
       "      <td>NORDESTE</td>\n",
       "      <td>Ribeiro de Abreu</td>\n",
       "      <td>2</td>\n",
       "    </tr>\n",
       "    <tr>\n",
       "      <th>4</th>\n",
       "      <td>PAMPULHA</td>\n",
       "      <td>Ouro Preto</td>\n",
       "      <td>2</td>\n",
       "    </tr>\n",
       "    <tr>\n",
       "      <th>5</th>\n",
       "      <td>VENDA NOVA</td>\n",
       "      <td>Mantiqueira</td>\n",
       "      <td>2</td>\n",
       "    </tr>\n",
       "    <tr>\n",
       "      <th>6</th>\n",
       "      <td>OESTE</td>\n",
       "      <td>Madre Gertrudes</td>\n",
       "      <td>2</td>\n",
       "    </tr>\n",
       "    <tr>\n",
       "      <th>7</th>\n",
       "      <td>BARREIRO</td>\n",
       "      <td>Lindéia</td>\n",
       "      <td>2</td>\n",
       "    </tr>\n",
       "    <tr>\n",
       "      <th>8</th>\n",
       "      <td>VENDA NOVA</td>\n",
       "      <td>Jardim dos Comerciarios</td>\n",
       "      <td>2</td>\n",
       "    </tr>\n",
       "    <tr>\n",
       "      <th>9</th>\n",
       "      <td>NORTE</td>\n",
       "      <td>Jardim Felicidade</td>\n",
       "      <td>2</td>\n",
       "    </tr>\n",
       "  </tbody>\n",
       "</table>\n",
       "</div>"
      ],
      "text/plain": [
       "  nome_regiao      nome_bairro_popular  total_bairro\n",
       "0       NORTE                Jaqueline             3\n",
       "1  CENTRO-SUL            Santo Antônio             2\n",
       "2  VENDA NOVA             Santa Mônica             2\n",
       "3    NORDESTE         Ribeiro de Abreu             2\n",
       "4    PAMPULHA               Ouro Preto             2\n",
       "5  VENDA NOVA              Mantiqueira             2\n",
       "6       OESTE          Madre Gertrudes             2\n",
       "7    BARREIRO                  Lindéia             2\n",
       "8  VENDA NOVA  Jardim dos Comerciarios             2\n",
       "9       NORTE        Jardim Felicidade             2"
      ]
     },
     "metadata": {},
     "output_type": "display_data"
    }
   ],
   "source": [
    "a5 = \"SELECT  regioes.nome_regiao, abrangencia_saude.nome_bairro_popular, COUNT(abrangencia_saude.id_area_abrangencia_saude) AS total_bairro FROM abrangencia_saude JOIN regioes ON abrangencia_saude.nome_regiao = regioes.nome_regiao GROUP BY abrangencia_saude.nome_bairro_popular ORDER BY total_bairro DESC LIMIT 10;\"\n",
    "#NÃO ALTERE A LINHA ABAIXO\n",
    "runQuery(a5, \"a5\")"
   ]
  },
  {
   "cell_type": "markdown",
   "metadata": {
    "id": "oPCZUoeNZNGA"
   },
   "source": [
    "### TOP 10 BAIRROS COM MAIS ESCOLAS DE BH\n"
   ]
  },
  {
   "cell_type": "code",
   "execution_count": 18,
   "metadata": {
    "id": "cHnE0cZyTq-K"
   },
   "outputs": [
    {
     "data": {
      "text/html": [
       "<div>\n",
       "<style scoped>\n",
       "    .dataframe tbody tr th:only-of-type {\n",
       "        vertical-align: middle;\n",
       "    }\n",
       "\n",
       "    .dataframe tbody tr th {\n",
       "        vertical-align: top;\n",
       "    }\n",
       "\n",
       "    .dataframe thead th {\n",
       "        text-align: right;\n",
       "    }\n",
       "</style>\n",
       "<table border=\"1\" class=\"dataframe\">\n",
       "  <thead>\n",
       "    <tr style=\"text-align: right;\">\n",
       "      <th></th>\n",
       "      <th>nome_regiao</th>\n",
       "      <th>nome_bairro_popular</th>\n",
       "      <th>total_bairro</th>\n",
       "    </tr>\n",
       "  </thead>\n",
       "  <tbody>\n",
       "    <tr>\n",
       "      <th>0</th>\n",
       "      <td>VENDA NOVA</td>\n",
       "      <td>Céu Azul</td>\n",
       "      <td>8</td>\n",
       "    </tr>\n",
       "    <tr>\n",
       "      <th>1</th>\n",
       "      <td>BARREIRO</td>\n",
       "      <td>Tirol</td>\n",
       "      <td>7</td>\n",
       "    </tr>\n",
       "    <tr>\n",
       "      <th>2</th>\n",
       "      <td>VENDA NOVA</td>\n",
       "      <td>Mantiqueira</td>\n",
       "      <td>7</td>\n",
       "    </tr>\n",
       "    <tr>\n",
       "      <th>3</th>\n",
       "      <td>BARREIRO</td>\n",
       "      <td>Lindéia</td>\n",
       "      <td>7</td>\n",
       "    </tr>\n",
       "    <tr>\n",
       "      <th>4</th>\n",
       "      <td>NORTE</td>\n",
       "      <td>Jardim Felicidade</td>\n",
       "      <td>7</td>\n",
       "    </tr>\n",
       "    <tr>\n",
       "      <th>5</th>\n",
       "      <td>LESTE</td>\n",
       "      <td>Taquaril</td>\n",
       "      <td>6</td>\n",
       "    </tr>\n",
       "    <tr>\n",
       "      <th>6</th>\n",
       "      <td>CENTRO-SUL</td>\n",
       "      <td>Santo Antônio</td>\n",
       "      <td>6</td>\n",
       "    </tr>\n",
       "    <tr>\n",
       "      <th>7</th>\n",
       "      <td>PAMPULHA</td>\n",
       "      <td>Santa Terezinha</td>\n",
       "      <td>6</td>\n",
       "    </tr>\n",
       "    <tr>\n",
       "      <th>8</th>\n",
       "      <td>OESTE</td>\n",
       "      <td>Salgado Filho</td>\n",
       "      <td>6</td>\n",
       "    </tr>\n",
       "    <tr>\n",
       "      <th>9</th>\n",
       "      <td>NORDESTE</td>\n",
       "      <td>Jardim Vitória</td>\n",
       "      <td>6</td>\n",
       "    </tr>\n",
       "  </tbody>\n",
       "</table>\n",
       "</div>"
      ],
      "text/plain": [
       "  nome_regiao nome_bairro_popular  total_bairro\n",
       "0  VENDA NOVA            Céu Azul             8\n",
       "1    BARREIRO               Tirol             7\n",
       "2  VENDA NOVA         Mantiqueira             7\n",
       "3    BARREIRO             Lindéia             7\n",
       "4       NORTE   Jardim Felicidade             7\n",
       "5       LESTE            Taquaril             6\n",
       "6  CENTRO-SUL       Santo Antônio             6\n",
       "7    PAMPULHA     Santa Terezinha             6\n",
       "8       OESTE       Salgado Filho             6\n",
       "9    NORDESTE      Jardim Vitória             6"
      ]
     },
     "metadata": {},
     "output_type": "display_data"
    }
   ],
   "source": [
    "a6 = \"SELECT regioes.nome_regiao, rede_municipal_escolas.nome_bairro_popular, COUNT(rede_municipal_escolas.nome_bairro_popular) AS total_bairro FROM rede_municipal_escolas JOIN regioes ON regioes.nome_regiao = rede_municipal_escolas.nome_regiao GROUP BY nome_bairro_popular ORDER BY total_bairro DESC LIMIT 10;\"\n",
    "#NÃO ALTERE A LINHA ABAIXO\n",
    "runQuery(a6, \"a6\")"
   ]
  },
  {
   "cell_type": "markdown",
   "metadata": {
    "id": "2ftAbAxDWqG2"
   },
   "source": [
    "# Finalizando o Banco de Dados e o Arquivo de Consultas gerado:"
   ]
  },
  {
   "cell_type": "code",
   "execution_count": 19,
   "metadata": {
    "id": "liMikAbtIauA"
   },
   "outputs": [],
   "source": [
    "#NÃO ALTERE AS LINHAS ABAIXO\n",
    "queries.close()\n",
    "con.close()"
   ]
  },
  {
   "cell_type": "markdown",
   "metadata": {
    "id": "ZpgeqGXs7TUp"
   },
   "source": [
    "## Compactando Arquivos\n",
    "Na célula abaixo, substitua onde está escrito MATRÍCULA pelo seu número de matrícula."
   ]
  },
  {
   "cell_type": "code",
   "execution_count": 20,
   "metadata": {
    "id": "a_nL7tLM7k7q"
   },
   "outputs": [
    {
     "name": "stdout",
     "output_type": "stream",
     "text": [
      "  adding: TP2.ipynb (deflated 88%)\r\n",
      "  adding: TP2.csv (deflated 75%)\r\n"
     ]
    }
   ],
   "source": [
    "!zip -r \"TP2.zip\" \"TP2.ipynb\" \"TP2.csv\""
   ]
  },
  {
   "cell_type": "markdown",
   "metadata": {
    "id": "2ftAbAxDWqG2"
   },
   "source": [
    "**LEMBRE-SE:** Após finalizar todas as consultas, clique em *Kernel -> Restart and Run All* no ambiente em que estiver usando (Jupyter ou Google Colab)\n",
    "\n",
    "Caso esteja usando o Google Colab, colocar manualmente o arquivo .ipynb no zip"
   ]
  }
 ],
 "metadata": {
  "colab": {
   "provenance": []
  },
  "kernelspec": {
   "display_name": "Python 3 (ipykernel)",
   "language": "python",
   "name": "python3"
  },
  "language_info": {
   "codemirror_mode": {
    "name": "ipython",
    "version": 3
   },
   "file_extension": ".py",
   "mimetype": "text/x-python",
   "name": "python",
   "nbconvert_exporter": "python",
   "pygments_lexer": "ipython3",
   "version": "3.11.5"
  }
 },
 "nbformat": 4,
 "nbformat_minor": 1
}
